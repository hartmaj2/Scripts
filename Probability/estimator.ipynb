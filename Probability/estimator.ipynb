{
 "cells": [
  {
   "cell_type": "code",
   "execution_count": 710,
   "metadata": {},
   "outputs": [],
   "source": [
    "import random\n",
    "import matplotlib.pyplot as plt\n",
    "import numpy as np\n",
    "import math\n",
    "import scipy.stats"
   ]
  },
  {
   "cell_type": "markdown",
   "metadata": {},
   "source": [
    "Odhadneme lambda parametr dle našeho odhadu (estimatoru) pro čtyři realizace 10 000 krát. Z odhadnutého lambda dokáži spočítat odhadnutou pravděpodobnost, toho, že n.v. je větší než 1. Poté spočítám z těch 10 000 pokusů střední hodnotu, ze které přímo získám bias."
   ]
  },
  {
   "cell_type": "code",
   "execution_count": 711,
   "metadata": {},
   "outputs": [
    {
     "name": "stdout",
     "output_type": "stream",
     "text": [
      "Bias(p): 0.24136339277234317\n"
     ]
    }
   ],
   "source": [
    "amount_of_estimations = 10_000\n",
    "amount_of_samples = 4\n",
    "real_lambda = 1.5\n",
    "estimated_probs = []\n",
    "\n",
    "real_prob = math.exp(-1.5)\n",
    "for i in range(amount_of_estimations):\n",
    "    data_x = scipy.stats.expon.rvs(scale=real_lambda,size=amount_of_samples)\n",
    "    sample_mean = np.mean(data_x)\n",
    "    estimated_lambda = 1/sample_mean\n",
    "    estimated_probs.append(math.exp(-1/sample_mean))   \n",
    "expected_val_of_probs = np.mean(estimated_probs)\n",
    "bias = expected_val_of_probs - real_prob\n",
    "print(f\"Bias(p): {bias}\")\n"
   ]
  },
  {
   "cell_type": "markdown",
   "metadata": {},
   "source": [
    "Spočítám střední kvadratickou odchylku mých odhadů,"
   ]
  },
  {
   "cell_type": "code",
   "execution_count": 712,
   "metadata": {},
   "outputs": [
    {
     "name": "stdout",
     "output_type": "stream",
     "text": [
      "Mse(p): 0.08771827060619797\n"
     ]
    }
   ],
   "source": [
    "squared_errors = []\n",
    "for i in range(amount_of_estimations):\n",
    "    squared_errors.append((estimated_probs[i] - real_prob)**2)\n",
    "mse = np.mean(squared_errors)\n",
    "print(f\"Mse(p): {mse}\")"
   ]
  },
  {
   "cell_type": "markdown",
   "metadata": {},
   "source": [
    "Spočítám pravděpodobnost chyby větší než 0.15 u mých odhadů."
   ]
  },
  {
   "cell_type": "code",
   "execution_count": 713,
   "metadata": {},
   "outputs": [
    {
     "name": "stdout",
     "output_type": "stream",
     "text": [
      "Prob of error > 0.15: 0.7389\n"
     ]
    }
   ],
   "source": [
    "bad_estimations_count = 0\n",
    "for i in range(amount_of_estimations):\n",
    "    bad_estimations_count += abs(estimated_probs[i] - real_prob) > 0.15\n",
    "print(f\"Prob of error > 0.15: {bad_estimations_count/amount_of_estimations}\")"
   ]
  },
  {
   "cell_type": "markdown",
   "metadata": {},
   "source": [
    "Nyní provedu to samé pomocí první metody (použití Bernoulliho veličin)"
   ]
  },
  {
   "cell_type": "code",
   "execution_count": 714,
   "metadata": {},
   "outputs": [
    {
     "name": "stdout",
     "output_type": "stream",
     "text": [
      "Bias(p): 1.2802613948723052\n"
     ]
    }
   ],
   "source": [
    "amount_of_estimations = 10_000\n",
    "amount_of_samples = 4\n",
    "real_lambda = 1.5\n",
    "estimated_probs = []\n",
    "\n",
    "real_prob = math.exp(-1.5)\n",
    "for i in range(amount_of_estimations):\n",
    "    data_x = scipy.stats.expon.rvs(scale=real_lambda,size=amount_of_samples)\n",
    "    sample_mean = np.mean(data_x)\n",
    "    estimated_probs.append(sample_mean)   \n",
    "expected_val_of_probs = np.mean(estimated_probs)\n",
    "bias = expected_val_of_probs - real_prob\n",
    "print(f\"Bias(p): {bias}\")"
   ]
  },
  {
   "cell_type": "code",
   "execution_count": 715,
   "metadata": {},
   "outputs": [
    {
     "name": "stdout",
     "output_type": "stream",
     "text": [
      "Mse(p): 2.1993219191778532\n"
     ]
    }
   ],
   "source": [
    "squared_errors = []\n",
    "for i in range(amount_of_estimations):\n",
    "    squared_errors.append((estimated_probs[i] - real_prob)**2)\n",
    "mse = np.mean(squared_errors)\n",
    "print(f\"Mse(p): {mse}\")"
   ]
  },
  {
   "cell_type": "code",
   "execution_count": 716,
   "metadata": {},
   "outputs": [
    {
     "name": "stdout",
     "output_type": "stream",
     "text": [
      "Prob of error > 0.15: 0.9796\n"
     ]
    }
   ],
   "source": [
    "bad_estimations_count = 0\n",
    "for i in range(amount_of_estimations):\n",
    "    bad_estimations_count += abs(estimated_probs[i] - real_prob) > 0.15\n",
    "print(f\"Prob of error > 0.15: {bad_estimations_count/amount_of_estimations}\")"
   ]
  }
 ],
 "metadata": {
  "kernelspec": {
   "display_name": "Python 3",
   "language": "python",
   "name": "python3"
  },
  "language_info": {
   "codemirror_mode": {
    "name": "ipython",
    "version": 3
   },
   "file_extension": ".py",
   "mimetype": "text/x-python",
   "name": "python",
   "nbconvert_exporter": "python",
   "pygments_lexer": "ipython3",
   "version": "3.12.2"
  }
 },
 "nbformat": 4,
 "nbformat_minor": 2
}
