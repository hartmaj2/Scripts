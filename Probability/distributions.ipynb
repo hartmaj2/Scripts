{
 "cells": [
  {
   "cell_type": "markdown",
   "metadata": {},
   "source": [
    "# Generování náhodné veličiny"
   ]
  },
  {
   "cell_type": "code",
   "execution_count": 19,
   "metadata": {},
   "outputs": [],
   "source": [
    "import random\n",
    "import matplotlib.pyplot as plt\n",
    "import numpy as np\n",
    "import math\n",
    "\n",
    "num_samples = 1_000_000"
   ]
  },
  {
   "cell_type": "markdown",
   "metadata": {},
   "source": [
    "Nejprve vygeneruji $1000000$ hodnot $Y$ pro $Y \\sim (0,1)$ a pak spočtu střední hodnotu $\\mathbb{E}[Y]$ pomocí aritmetického průměru. Z přednášky víme, že tato hodnota by se měla blížit $\\frac{1}{2}$"
   ]
  },
  {
   "cell_type": "code",
   "execution_count": 20,
   "metadata": {},
   "outputs": [
    {
     "name": "stdout",
     "output_type": "stream",
     "text": [
      "E[Y] = 0.49981862785935877\n"
     ]
    }
   ],
   "source": [
    "data_y = [random.uniform(0,1) for i in range(num_samples)]\n",
    "mean_y = np.sum(data_y) / len(data_y)\n",
    "print(f\"E[Y] = {mean_y}\")"
   ]
  },
  {
   "cell_type": "markdown",
   "metadata": {},
   "source": [
    "Nejprve spočtu rozptyl $ var(Y) = \\mathbb{E}[(\\mathbb{E}[Y]-Y)^2]$ a odmocninou této hodnoty získám směrodatnou odchylku. Pomocí vzorečku z přednášky vím, že: $ var(Y) = \\mathbb{E}[Y^2] - (\\mathbb{E}[Y])^2$ a spočtením získám hodnotu $var(Y) = \\frac{1}{12}$ a tedy $\\sigma(Y) = \\frac{1}{\\sqrt{12}}$"
   ]
  },
  {
   "cell_type": "code",
   "execution_count": 21,
   "metadata": {},
   "outputs": [
    {
     "name": "stdout",
     "output_type": "stream",
     "text": [
      "sigma(Y) = 0.2887080505478721\n"
     ]
    }
   ],
   "source": [
    "sum = 0\n",
    "for i in range(len(data_y)):\n",
    "    sum += (data_y[i] - mean_y) ** 2\n",
    "stdev_y = math.sqrt(sum / len(data_y))\n",
    "print(f\"sigma(Y) = {stdev_y}\")"
   ]
  },
  {
   "cell_type": "markdown",
   "metadata": {},
   "source": [
    "Dále spočtu $P(Y \\leq 0.4)$"
   ]
  },
  {
   "cell_type": "code",
   "execution_count": 22,
   "metadata": {},
   "outputs": [
    {
     "name": "stdout",
     "output_type": "stream",
     "text": [
      "P(Y<=0.4) = 0.400667\n"
     ]
    }
   ],
   "source": [
    "sum = 0\n",
    "for i in range(len(data_y)):\n",
    "    sum += data_y[i] <= 0.4\n",
    "p_leq = sum / len(data_y)\n",
    "print(f\"P(Y<=0.4) = {p_leq}\")"
   ]
  },
  {
   "cell_type": "markdown",
   "metadata": {},
   "source": [
    "Nyní si vygeneruji hodnoty pro náhodnou veličinu $X = \\frac{1}{Y}$ a spočítám střední hodnotu, která by však podle vzorečku měla vyjít $ln(1)-ln(0)$, což je hodnota jdoucí k $\\infty$. (Pokud celý kód spustíme znovu, je vidět, že výsledek je pokaždé jiný)"
   ]
  },
  {
   "cell_type": "code",
   "execution_count": 23,
   "metadata": {},
   "outputs": [
    {
     "name": "stdout",
     "output_type": "stream",
     "text": [
      "E[X] = 12.954974957297575\n"
     ]
    }
   ],
   "source": [
    "data_x = [1/y for y in data_y]\n",
    "mean_x = np.mean(data_x)\n",
    "print(f\"E[X] = {mean_x}\")"
   ]
  },
  {
   "cell_type": "markdown",
   "metadata": {},
   "source": [
    "Podobné je to i se směrodatnou odchylkou."
   ]
  },
  {
   "cell_type": "code",
   "execution_count": 24,
   "metadata": {},
   "outputs": [
    {
     "name": "stdout",
     "output_type": "stream",
     "text": [
      "sgima(X) = 1007.0288416346881\n"
     ]
    }
   ],
   "source": [
    "stdev_x = np.std(data_x)\n",
    "print(f\"sgima(X) = {stdev_x}\")"
   ]
  },
  {
   "cell_type": "markdown",
   "metadata": {},
   "source": [
    "Poslední výpočet je hodnota $P(2 \\leq X \\leq 3)$. \n",
    "\n",
    "Ta by mělá odpovídat hodnotě $P(\\frac{1}{3} \\leq Y \\leq \\frac{1}{2}) = \\frac{1}{6}$."
   ]
  },
  {
   "cell_type": "code",
   "execution_count": 25,
   "metadata": {},
   "outputs": [
    {
     "name": "stdout",
     "output_type": "stream",
     "text": [
      "P(2<=X<=3) = 0.166296\n"
     ]
    }
   ],
   "source": [
    "sum = 0\n",
    "for i in range(len(data_x)):\n",
    "    sum += 2 <= data_x[i] <= 3\n",
    "p_intvl = sum / len(data_x)\n",
    "print(f\"P(2<=X<=3) = {p_intvl}\")"
   ]
  },
  {
   "cell_type": "markdown",
   "metadata": {},
   "source": [
    "Nyní ještě nakreslím histogram pro veličinu $X$"
   ]
  },
  {
   "cell_type": "code",
   "execution_count": 26,
   "metadata": {},
   "outputs": [
    {
     "data": {
      "image/png": "[encoded data removed]",
      "text/plain": [
       "<Figure size 640x480 with 1 Axes>"
      ]
     },
     "metadata": {},
     "output_type": "display_data"
    }
   ],
   "source": [
    "plt.title(f\"Histogram of {num_samples} samples of random variable X\")\n",
    "plt.xlabel(\"Value of X\")\n",
    "plt.ylabel(\"Count\")\n",
    "plt.hist(data_x,bins=np.arange(0,30,0.1),edgecolor='black')\n",
    "plt.show()"
   ]
  }
 ],
 "metadata": {
  "kernelspec": {
   "display_name": "Python 3",
   "language": "python",
   "name": "python3"
  },
  "language_info": {
   "codemirror_mode": {
    "name": "ipython",
    "version": 3
   },
   "file_extension": ".py",
   "mimetype": "text/x-python",
   "name": "python",
   "nbconvert_exporter": "python",
   "pygments_lexer": "ipython3",
   "version": "3.12.2"
  }
 },
 "nbformat": 4,
 "nbformat_minor": 2
}
