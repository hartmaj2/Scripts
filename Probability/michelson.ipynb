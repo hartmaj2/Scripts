{
 "cells": [
  {
   "cell_type": "code",
   "execution_count": 97,
   "metadata": {},
   "outputs": [],
   "source": [
    "import numpy as np\n",
    "import scipy.stats as ss"
   ]
  },
  {
   "cell_type": "markdown",
   "metadata": {},
   "source": [
    "First, load the measurement data from the tsv file."
   ]
  },
  {
   "cell_type": "code",
   "execution_count": 98,
   "metadata": {},
   "outputs": [
    {
     "name": "stdout",
     "output_type": "stream",
     "text": [
      "Entries: 100\n",
      "Data [850, 740, 900, 1070, 930, 850, 950, 980, 980, 880, 1000, 980, 930, 650, 760, 810, 1000, 1000, 960, 960, 960, 940, 960, 940, 880, 800, 850, 880, 900, 840, 830, 790, 810, 880, 880, 830, 800, 790, 760, 800, 880, 880, 880, 860, 720, 720, 620, 860, 970, 950, 880, 910, 850, 870, 840, 840, 850, 840, 840, 840, 890, 810, 810, 820, 800, 770, 760, 740, 750, 760, 910, 920, 890, 860, 880, 720, 840, 850, 850, 780, 890, 840, 780, 810, 760, 810, 790, 810, 820, 850, 870, 870, 810, 740, 810, 940, 950, 800, 810, 870]\n"
     ]
    }
   ],
   "source": [
    "velocities = []\n",
    "with open(\"Michelson.tsv\") as file:\n",
    "    file.readline()\n",
    "    for line in file:\n",
    "        velocities.append(int(line))\n",
    "print(f\"Entries: {len(velocities)}\")\n",
    "print(f\"Data {velocities}\")"
   ]
  },
  {
   "cell_type": "markdown",
   "metadata": {},
   "source": [
    "Calculate sample mean and sample variance"
   ]
  },
  {
   "cell_type": "code",
   "execution_count": 99,
   "metadata": {},
   "outputs": [
    {
     "name": "stdout",
     "output_type": "stream",
     "text": [
      "Sample mean 852.4 \n",
      "Sample standard deviation 78.61450247886836 \n"
     ]
    }
   ],
   "source": [
    "sample_mean = np.mean(velocities)\n",
    "sample_stdev = np.std(velocities)\n",
    "print(f\"Sample mean {sample_mean} \")\n",
    "print(f\"Sample standard deviation {sample_stdev} \")"
   ]
  },
  {
   "cell_type": "markdown",
   "metadata": {},
   "source": [
    "Calculate the quantile using scipy. This gives us the distance from the mean in terms of standard deviations."
   ]
  },
  {
   "cell_type": "code",
   "execution_count": 100,
   "metadata": {},
   "outputs": [
    {
     "name": "stdout",
     "output_type": "stream",
     "text": [
      "Quantile: 1.959963984540054\n"
     ]
    }
   ],
   "source": [
    "quantile = ss.norm.ppf(0.975,loc=0,scale=1)\n",
    "print(f\"Quantile: {quantile}\")"
   ]
  },
  {
   "cell_type": "markdown",
   "metadata": {},
   "source": [
    "Calculate the confidence interval manually using the quantile, sample_mean and sample_stdev"
   ]
  },
  {
   "cell_type": "code",
   "execution_count": 101,
   "metadata": {},
   "outputs": [
    {
     "name": "stdout",
     "output_type": "stream",
     "text": [
      "The confidence 95% interval is (698.3184064788832, 1006.4815935211168)\n"
     ]
    }
   ],
   "source": [
    "dist_from_mean = sample_stdev * quantile\n",
    "left_bound = sample_mean - dist_from_mean\n",
    "right_bound = sample_mean + dist_from_mean\n",
    "print(f\"The confidence 95% interval is ({left_bound}, {right_bound})\")"
   ]
  },
  {
   "cell_type": "markdown",
   "metadata": {},
   "source": [
    "Calculate the same thing using specialised scipy function"
   ]
  },
  {
   "cell_type": "code",
   "execution_count": 102,
   "metadata": {},
   "outputs": [
    {
     "name": "stdout",
     "output_type": "stream",
     "text": [
      "The confidence 95% interval is (698.3184064788832, 1006.4815935211168)\n"
     ]
    }
   ],
   "source": [
    "confidence_intvl = ss.norm.interval(0.95,loc=sample_mean,scale=sample_stdev)\n",
    "print(f\"The confidence 95% interval is {confidence_intvl}\")"
   ]
  }
 ],
 "metadata": {
  "kernelspec": {
   "display_name": "Python 3",
   "language": "python",
   "name": "python3"
  },
  "language_info": {
   "codemirror_mode": {
    "name": "ipython",
    "version": 3
   },
   "file_extension": ".py",
   "mimetype": "text/x-python",
   "name": "python",
   "nbconvert_exporter": "python",
   "pygments_lexer": "ipython3",
   "version": "3.12.2"
  }
 },
 "nbformat": 4,
 "nbformat_minor": 2
}
