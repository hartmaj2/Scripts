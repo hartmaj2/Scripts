{
 "cells": [
  {
   "cell_type": "markdown",
   "metadata": {},
   "source": [
    "## Srovnání algoritmů Quicksort a SortX\n",
    "Naše nulová hypotéza je, že střední hodnota doby běhu Quicksortu je stejná, jako střední hodnota doby běhu algoritmu SortX. Jelikož provádíme párový t-test, tak si spočítáme rozdíly a pro ně pak budeme dělat jednovýběrový t-test s nulovou hypotézou, že střední hodnota těch rozdílů je nulová.\n",
    "\n",
    "Nejprve načteme data:"
   ]
  },
  {
   "cell_type": "code",
   "execution_count": 1,
   "metadata": {},
   "outputs": [
    {
     "name": "stdout",
     "output_type": "stream",
     "text": [
      "Quicksort data:\t[1014, 1007, 998, 1040, 999, 1030, 980, 1010, 940, 1030, 1000, 990, 1000, 995, 1020, 990, 1040, 1020, 1015, 940]\n",
      "SortX data:\t[980, 995, 960, 1050, 970, 1010, 1005, 1020, 950, 1000, 1025, 970, 965, 980, 1015, 985, 1010, 995, 990, 955]\n"
     ]
    }
   ],
   "source": [
    "import numpy as np\n",
    "import scipy.stats as ss\n",
    "\n",
    "qsort = []\n",
    "xsort = []\n",
    "with open(\"times.csv\",'r') as file:\n",
    "    file.readline()\n",
    "    for line in file:\n",
    "        qsort.append(int(line.split(sep=',')[1].strip()))\n",
    "        xsort.append(int(line.split(sep=',')[2].strip()))\n",
    "print(f\"Quicksort data:\\t{qsort}\")\n",
    "print(f\"SortX data:\\t{xsort}\")"
   ]
  },
  {
   "cell_type": "markdown",
   "metadata": {},
   "source": [
    "Spočítáme rozdíly mezi odpovídajícími měřeními, na kterých pak provedeme 1-výběrový t-test."
   ]
  },
  {
   "cell_type": "code",
   "execution_count": 2,
   "metadata": {},
   "outputs": [
    {
     "name": "stdout",
     "output_type": "stream",
     "text": [
      "Differences: [34, 12, 38, -10, 29, 20, -25, -10, -10, 30, -25, 20, 35, 15, 5, 5, 30, 25, 25, -15]\n"
     ]
    }
   ],
   "source": [
    "diffs = [y-x for (y,x) in zip(qsort,xsort)]\n",
    "print(f\"Differences: {diffs}\")"
   ]
  },
  {
   "cell_type": "markdown",
   "metadata": {},
   "source": [
    "Pro odhad směrodatné odchylky použijeme výpočet s n-1 stupni volnosti, jelikož už jsme jeden stupeň volnosti ztratili odhadem střední hodnoty."
   ]
  },
  {
   "cell_type": "code",
   "execution_count": 3,
   "metadata": {},
   "outputs": [
    {
     "name": "stdout",
     "output_type": "stream",
     "text": [
      "Sample mean:\t11.4\n",
      "Sample stdev:\t20.661176407124444\n",
      "\n"
     ]
    }
   ],
   "source": [
    "n = len(diffs)\n",
    "sample_mean = np.mean(diffs)\n",
    "sample_stdev = np.std(diffs,ddof=1)\n",
    "\n",
    "# my_deviations = np.sqrt(np.sum([(x-sample_mean)**2 for x in diffs])/(n-1))\n",
    "\n",
    "print(f\"Sample mean:\\t{sample_mean}\")\n",
    "print(f\"Sample stdev:\\t{sample_stdev}\")\n",
    "print()"
   ]
  },
  {
   "cell_type": "markdown",
   "metadata": {},
   "source": [
    "### Postup č. 1 (myslím, že tak by to také mělo fungovat)\n",
    "Řekněme, že budeme používat hladinu významnosti 5%. Tuto hodnotu použijeme k spočtení kritické hodnoty pro t. Výsledek `critical_t_value` nám říká, kolik směrodatných odchylek daleko od střední hodnoty (na libovolnou stranu) musí být nějaká hodnota, aby pravděpodobnost, že ji získáme z té naší distribuce byla menší než 5%."
   ]
  },
  {
   "cell_type": "code",
   "execution_count": 4,
   "metadata": {},
   "outputs": [],
   "source": [
    "alpha = 0.05\n",
    "critical_t_value = ss.t.ppf(1-(alpha/2),n-1)"
   ]
  },
  {
   "cell_type": "markdown",
   "metadata": {},
   "source": [
    "Nyní nesmím udělat tu chybu jako minule a využít odchylku výběrového průměru (standard error of the mean, SEM), kterou získám tak, že výběrovou směrodatnou odchylku (sample_standard_deviation) vydělím odmocninou z počtu měření.\n",
    "\n",
    "Rovnou také spočtu tzv. margin of error, který říká (už ve správné škále pro získaná data), jak daleko může být odhadovaná hodnota od té nulové hypotetické tak, aby to ještě bylo v tom konfidenčním intervalu."
   ]
  },
  {
   "cell_type": "code",
   "execution_count": 5,
   "metadata": {},
   "outputs": [
    {
     "name": "stdout",
     "output_type": "stream",
     "text": [
      "Standard error of the mean:\t4.619979494144513\n",
      "Margin of error:\t\t9.669728212117384\n"
     ]
    }
   ],
   "source": [
    "sem = ss.sem(diffs)\n",
    "me = critical_t_value * sem\n",
    "# my_sem = sample_stdev / np.sqrt(n)\n",
    "\n",
    "print(f\"Standard error of the mean:\\t{sem}\")\n",
    "print(f\"Margin of error:\\t\\t{me}\")"
   ]
  },
  {
   "cell_type": "markdown",
   "metadata": {},
   "source": [
    "S tou naměřenou střední hodnotou výběrového průměru by se reálná střední hodnota s 95% spolehlivostí nacházela v následujícím intervalu. Tam ale nespadá hodnota 0, kterou jsme si zadali z nulové hypotézy, takže bychom ji měli zamítnout a SortX je nejspíš opravdu rychlejší. (Mohl by být i pomalejší, ale ta střední hodnota rozdílu je kladná, což napovídá, že se nejspíš jedná o zrychlení)"
   ]
  },
  {
   "cell_type": "code",
   "execution_count": 6,
   "metadata": {},
   "outputs": [
    {
     "name": "stdout",
     "output_type": "stream",
     "text": [
      "(1.7302717878826162,21.069728212117383)\n"
     ]
    }
   ],
   "source": [
    "ci_lower = sample_mean - me\n",
    "ci_upper = sample_mean + me\n",
    "\n",
    "print(f\"({ci_lower},{ci_upper})\")"
   ]
  },
  {
   "cell_type": "markdown",
   "metadata": {},
   "source": [
    "### Postup č. 2 (to by měl být standardní postup, jak se to počítá)\n",
    "Přes t-statistiku, která nám říká, kolik směrodatných odchylek daleko se nacházím od střední hodnoty z nulové hypotézy."
   ]
  },
  {
   "cell_type": "code",
   "execution_count": 7,
   "metadata": {},
   "outputs": [
    {
     "name": "stdout",
     "output_type": "stream",
     "text": [
      "T-score: 2.467543419716185\n"
     ]
    }
   ],
   "source": [
    "t_score = sample_mean / sem\n",
    "print(f\"T-score: {t_score}\")"
   ]
  },
  {
   "cell_type": "markdown",
   "metadata": {},
   "source": [
    "Poté spočítám p-hodnotu, která mi říká, jak moc je pravděpodobné, že dostanu výběrový průměr tak daleko od toho z nulové hypotézy, jako jsem ho dostal z těchto vzorků."
   ]
  },
  {
   "cell_type": "code",
   "execution_count": 8,
   "metadata": {},
   "outputs": [
    {
     "name": "stdout",
     "output_type": "stream",
     "text": [
      "P-value1: 0.02327662950648404\n",
      "P-value2: 0.02327662950648404\n"
     ]
    }
   ],
   "source": [
    "p_val1 = 2 * ss.t.cdf(x=-abs(t_score),df=n-1)\n",
    "p_val2 = 2 * ss.t.sf(abs(t_score),n-1)\n",
    "print(f\"P-value1: {p_val1}\")\n",
    "print(f\"P-value2: {p_val2}\")"
   ]
  },
  {
   "cell_type": "markdown",
   "metadata": {},
   "source": [
    "Vyšla mi pravděpodobnost cca 2.3 %, což je méně než hladina 5 %, kterou jsme si stanovili, takže zamítáme hypotézu, že ty algoritmy jsou stejně rychlé as 95% spolehlivostí je SortX výrazně jinak rychlý, než Quicksort. Z dat je vidět, že by se jednalo o zrychlení."
   ]
  }
 ],
 "metadata": {
  "kernelspec": {
   "display_name": "Python 3",
   "language": "python",
   "name": "python3"
  },
  "language_info": {
   "codemirror_mode": {
    "name": "ipython",
    "version": 3
   },
   "file_extension": ".py",
   "mimetype": "text/x-python",
   "name": "python",
   "nbconvert_exporter": "python",
   "pygments_lexer": "ipython3",
   "version": "3.12.2"
  }
 },
 "nbformat": 4,
 "nbformat_minor": 2
}
