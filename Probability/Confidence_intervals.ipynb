{
 "cells": [
  {
   "cell_type": "markdown",
   "id": "3c89a7dd-2037-4995-be95-e60e2477d288",
   "metadata": {},
   "source": [
    "# Confidence intervals"
   ]
  },
  {
   "cell_type": "code",
   "execution_count": 13,
   "id": "79f7a656",
   "metadata": {},
   "outputs": [],
   "source": [
    "from scipy import stats\n",
    "from math import sqrt\n",
    "import numpy as np\n",
    "import matplotlib.pyplot as plt"
   ]
  },
  {
   "cell_type": "markdown",
   "id": "e71a803a-96a4-46ca-917b-f0f4245bf419",
   "metadata": {},
   "source": [
    "## Known variance"
   ]
  },
  {
   "cell_type": "markdown",
   "id": "7f04331e-a953-45c1-a4a5-83610eb6a1c0",
   "metadata": {},
   "source": [
    "Experimenting with interval estimates (aka confidence intervals, CI). \n",
    "We deal with the case when our measurements are sampled from a normal distribution\n",
    "$N(\\mu, \\sigma^2)$.\n",
    "\n",
    "For simplicity, we start by simplified assumption: we know $\\sigma$ in advance and \n",
    "only need to find $\\mu$. "
   ]
  },
  {
   "cell_type": "markdown",
   "id": "fe03ba94",
   "metadata": {},
   "source": [
    "The function below gives us a random sample of several independent numbers all of the same distribution. \n",
    "This is the place to change if we are to deal with a different kind of random variable. "
   ]
  },
  {
   "cell_type": "code",
   "execution_count": 14,
   "id": "341eedec",
   "metadata": {},
   "outputs": [],
   "source": [
    "def sampleX(sigma, n, theta):\n",
    "    \"\"\"\n",
    "        Returns a sample of n independent values \n",
    "        from a normal random variable of standard deviation sigma\n",
    "        and \"unknown\" mean theta.\n",
    "    \"\"\"\n",
    "    return stats.norm.rvs(loc=theta, scale=sigma, size=n)"
   ]
  },
  {
   "cell_type": "markdown",
   "id": "7f84c49b",
   "metadata": {},
   "source": [
    "Below are the functions giving the confidence interval.\n",
    "\n",
    "The first one explicitly"
   ]
  },
  {
   "cell_type": "code",
   "execution_count": 28,
   "id": "f7e816bd",
   "metadata": {},
   "outputs": [],
   "source": [
    "def CI1(x, sigma, alpha):\n",
    "    \"\"\"\n",
    "        Returns the alpha-confidence interval\n",
    "        based on measurement -- realization -- x.\n",
    "        (We assume x is a numpy array.)\n",
    "    \"\"\"\n",
    "    n = len(x)\n",
    "    z = stats.norm.ppf(1-alpha/2)\n",
    "    a = x.mean() - z*sigma/sqrt(n)\n",
    "    b = x.mean() + z*sigma/sqrt(n)\n",
    "    return (a,b)\n",
    "\n",
    "def CI2(x, sigma, alpha):\n",
    "    \"\"\"\n",
    "        Returns the alpha-confidence interval\n",
    "        based on measurement -- realization -- x.\n",
    "        (We assume x is a numpy array.)\n",
    "    \"\"\"\n",
    "    return stats.norm.interval(confidence=1-alpha, \n",
    "                              loc=x.mean(),\n",
    "                              scale=sigma/sqrt(len(x)))    "
   ]
  },
  {
   "cell_type": "markdown",
   "id": "94aab2b1-1d36-43b3-bd7e-5e982daaae41",
   "metadata": {},
   "source": [
    "Exercise part a)."
   ]
  },
  {
   "cell_type": "code",
   "execution_count": 30,
   "id": "21cd0e3a",
   "metadata": {},
   "outputs": [
    {
     "data": {
      "text/plain": [
       "(0.9400360154599459, 4.8599639845400535)"
      ]
     },
     "execution_count": 30,
     "metadata": {},
     "output_type": "execute_result"
    }
   ],
   "source": [
    "CI1(np.array([2.9]), 1, .05)"
   ]
  },
  {
   "cell_type": "code",
   "execution_count": 31,
   "id": "0ccd93ba-a16c-4131-a6bb-5dd818a5ebd8",
   "metadata": {},
   "outputs": [
    {
     "data": {
      "text/plain": [
       "(0.9400360154599459, 4.8599639845400535)"
      ]
     },
     "execution_count": 31,
     "metadata": {},
     "output_type": "execute_result"
    }
   ],
   "source": [
    "CI2(np.array([2.9]), 1, .05)"
   ]
  },
  {
   "cell_type": "markdown",
   "id": "286171c4-b05f-40d7-aa10-07179b6b2ece",
   "metadata": {},
   "source": [
    "Value $1.96 = \\Phi^{-1}(1-0.025)$ is a good one to remember -- the above interval is: "
   ]
  },
  {
   "cell_type": "code",
   "execution_count": 32,
   "id": "2c502650",
   "metadata": {},
   "outputs": [
    {
     "data": {
      "text/plain": [
       "(0.94, 4.859999999999999)"
      ]
     },
     "execution_count": 32,
     "metadata": {},
     "output_type": "execute_result"
    }
   ],
   "source": [
    "2.9-1.96, 2.9+1.96"
   ]
  },
  {
   "cell_type": "markdown",
   "id": "85639278-49cc-4470-be50-de76173229b4",
   "metadata": {},
   "source": [
    "Exercise part b)."
   ]
  },
  {
   "cell_type": "code",
   "execution_count": 33,
   "id": "fc66218d",
   "metadata": {},
   "outputs": [],
   "source": [
    "data = np.array([1.82, 1.00, 2.50, 3.00, 0.50, 2.97, 1.76, 1.35, 3.41])"
   ]
  },
  {
   "cell_type": "code",
   "execution_count": 35,
   "id": "ca98c3b2",
   "metadata": {},
   "outputs": [
    {
     "data": {
      "text/plain": [
       "(1.3811231162644266, 2.6877657726244624)"
      ]
     },
     "execution_count": 35,
     "metadata": {},
     "output_type": "execute_result"
    }
   ],
   "source": [
    "CI1(data, sigma=1, alpha=0.05)"
   ]
  },
  {
   "cell_type": "code",
   "execution_count": 36,
   "id": "28231b41-01c5-46ce-8a28-a90982caa5a2",
   "metadata": {},
   "outputs": [
    {
     "data": {
      "text/plain": [
       "(1.3811231162644266, 2.6877657726244624)"
      ]
     },
     "execution_count": 36,
     "metadata": {},
     "output_type": "execute_result"
    }
   ],
   "source": [
    "CI2(data, sigma=1, alpha=0.05)"
   ]
  },
  {
   "cell_type": "markdown",
   "id": "e05a16df-a46d-47f3-af83-5d55ca52b064",
   "metadata": {},
   "source": [
    "The number 1.96 again ... "
   ]
  },
  {
   "cell_type": "code",
   "execution_count": 37,
   "id": "450c023a-cab7-4009-8a12-360e683d8bf5",
   "metadata": {},
   "outputs": [
    {
     "data": {
      "text/plain": [
       "(1.3811111111111112, 2.687777777777778)"
      ]
     },
     "execution_count": 37,
     "metadata": {},
     "output_type": "execute_result"
    }
   ],
   "source": [
    "data.mean() - 1.96/3, data.mean() + 1.96/3"
   ]
  },
  {
   "cell_type": "code",
   "execution_count": null,
   "id": "affc1c5e-3b33-4794-80f7-debedc057a04",
   "metadata": {},
   "outputs": [],
   "source": []
  },
  {
   "cell_type": "code",
   "execution_count": 55,
   "id": "6d77282c-b5ad-4f61-9e18-8ef59cd37dd0",
   "metadata": {},
   "outputs": [],
   "source": [
    "def CI3(x, alpha):\n",
    "    \"\"\"\n",
    "        Returns the alpha-confidence interval\n",
    "        based on measurement -- realization -- x.\n",
    "        (We assume x is a numpy array.)\n",
    "    \"\"\"\n",
    "    n = len(x)\n",
    "    sigma = x.std(ddof=1)\n",
    "    z = stats.t.ppf(1-alpha/2, n-1)\n",
    "    a = x.mean() - z*sigma/sqrt(n)\n",
    "    b = x.mean() + z*sigma/sqrt(n)\n",
    "    return (a,b)\n",
    "\n",
    "def CI4(x, alpha):\n",
    "    \"\"\"\n",
    "        Returns the alpha-confidence interval\n",
    "        based on measurement -- realization -- x.\n",
    "        (We assume x is a numpy array.)\n",
    "    \"\"\"\n",
    "    return stats.t.interval(confidence=1-alpha, \n",
    "                            df=len(x)-1,\n",
    "                            loc=x.mean(),\n",
    "                            scale=stats.sem(x)) "
   ]
  },
  {
   "cell_type": "code",
   "execution_count": 67,
   "id": "edaedb59-66bb-4d9f-a6d5-d0235a374fe9",
   "metadata": {},
   "outputs": [],
   "source": [
    "data2 = np.array([8.47, 10.91, 10.87, 9.46, 10.40])"
   ]
  },
  {
   "cell_type": "markdown",
   "id": "121dd1a5-de5f-4698-8ac9-be75aaa2dd77",
   "metadata": {},
   "source": [
    "We compute the mean and standard deviation using numpy. (Which version of the std do we need?)"
   ]
  },
  {
   "cell_type": "code",
   "execution_count": 44,
   "id": "134cd1e0-67b1-4d10-90f0-68ecd0d87541",
   "metadata": {},
   "outputs": [
    {
     "data": {
      "text/plain": [
       "10.022"
      ]
     },
     "execution_count": 44,
     "metadata": {},
     "output_type": "execute_result"
    }
   ],
   "source": [
    "data2.mean()"
   ]
  },
  {
   "cell_type": "code",
   "execution_count": 65,
   "id": "7d95eb70-21b2-4a7c-9d43-9731d91feee2",
   "metadata": {},
   "outputs": [
    {
     "data": {
      "text/plain": [
       "(1.0458345949527579, 0.93542289901413)"
      ]
     },
     "execution_count": 65,
     "metadata": {},
     "output_type": "execute_result"
    }
   ],
   "source": [
    "data2.std(ddof=1), data2.std(ddof=0)"
   ]
  },
  {
   "cell_type": "markdown",
   "id": "708695de-6d42-4ab0-ad2d-abf2f9bc8801",
   "metadata": {},
   "source": [
    "Pro kontrolu přímočarým pythonem."
   ]
  },
  {
   "cell_type": "code",
   "execution_count": 69,
   "id": "f9d82fd9-25f5-4a39-a6b3-80f9ef590150",
   "metadata": {},
   "outputs": [
    {
     "data": {
      "text/plain": [
       "10.022"
      ]
     },
     "execution_count": 69,
     "metadata": {},
     "output_type": "execute_result"
    }
   ],
   "source": [
    "m = sum(data2)/len(data2); m"
   ]
  },
  {
   "cell_type": "code",
   "execution_count": 70,
   "id": "35101030-51f5-458a-bd09-7caa61aefedd",
   "metadata": {},
   "outputs": [
    {
     "data": {
      "text/plain": [
       "(1.0458345949527579, 0.93542289901413)"
      ]
     },
     "execution_count": 70,
     "metadata": {},
     "output_type": "execute_result"
    }
   ],
   "source": [
    "sqrt(sum([ (x - m)**2 for x in data2])/(len(data2)-1)), sqrt(sum([ (x - m)**2 for x in data2])/len(data2))"
   ]
  },
  {
   "cell_type": "markdown",
   "id": "d64b1eda-46cf-4ee4-b00a-19f6ce99a151",
   "metadata": {},
   "source": [
    "We will need (estimation) standard deviation of the mean, which is $\\sqrt{n}$-times smaller. \n",
    "There is also direct function ``stats.sem()`` for this. "
   ]
  },
  {
   "cell_type": "code",
   "execution_count": 73,
   "id": "d06b5838-e3af-4b53-966e-4aac4fc38ed7",
   "metadata": {},
   "outputs": [
    {
     "data": {
      "text/plain": [
       "0.467711449507065"
      ]
     },
     "execution_count": 73,
     "metadata": {},
     "output_type": "execute_result"
    }
   ],
   "source": [
    "data2.std(ddof=1)/sqrt(len(data2))"
   ]
  },
  {
   "cell_type": "code",
   "execution_count": 75,
   "id": "120a1101-1129-4b90-97ea-63a73f92c88b",
   "metadata": {},
   "outputs": [
    {
     "data": {
      "text/plain": [
       "0.467711449507065"
      ]
     },
     "execution_count": 75,
     "metadata": {},
     "output_type": "execute_result"
    }
   ],
   "source": [
    "stats.sem(data2)"
   ]
  },
  {
   "cell_type": "markdown",
   "id": "f0c1bf7c-69f1-405a-a313-0c36b102dc56",
   "metadata": {},
   "source": [
    "The following is the confidence interval as discussed in class."
   ]
  },
  {
   "cell_type": "code",
   "execution_count": 46,
   "id": "be98e6c1-0967-4e90-b0f9-8ef9b8260c01",
   "metadata": {},
   "outputs": [
    {
     "data": {
      "text/plain": [
       "(8.723424835371143, 11.320575164628858)"
      ]
     },
     "execution_count": 46,
     "metadata": {},
     "output_type": "execute_result"
    }
   ],
   "source": [
    "CI3(data2, 0.05)"
   ]
  },
  {
   "cell_type": "code",
   "execution_count": 56,
   "id": "3aa632b4-f7fe-4ece-a88a-55b50e5452a0",
   "metadata": {},
   "outputs": [
    {
     "data": {
      "text/plain": [
       "(8.723424835371143, 11.320575164628858)"
      ]
     },
     "execution_count": 56,
     "metadata": {},
     "output_type": "execute_result"
    }
   ],
   "source": [
    "CI4(data2, 0.05)"
   ]
  },
  {
   "cell_type": "markdown",
   "id": "7759642e-cc80-4631-a118-1bba7c046ce7",
   "metadata": {},
   "source": [
    "If we new that ``data2.std(ddof=1)`` is the true standard deviation, we can use the estimate from the first part.\n",
    "This will get us more precise estimate -- but in will not have the confidence level we want. "
   ]
  },
  {
   "cell_type": "code",
   "execution_count": 76,
   "id": "5ead365d-d53d-4260-a6a9-82c63a755e1b",
   "metadata": {},
   "outputs": [
    {
     "data": {
      "text/plain": [
       "(9.105302403809128, 10.938697596190872)"
      ]
     },
     "execution_count": 76,
     "metadata": {},
     "output_type": "execute_result"
    }
   ],
   "source": [
    "CI1(data2, data2.std(ddof=1), 0.05)"
   ]
  },
  {
   "cell_type": "code",
   "execution_count": null,
   "id": "3236b2c5-91e5-4bb6-81dd-eec66efa89f4",
   "metadata": {},
   "outputs": [],
   "source": []
  },
  {
   "cell_type": "code",
   "execution_count": null,
   "id": "ed81bbc6-183f-485f-a27c-054cfc2e88b1",
   "metadata": {},
   "outputs": [],
   "source": []
  },
  {
   "cell_type": "code",
   "execution_count": null,
   "id": "f61dbe8d-898f-4ff6-99a9-44ee74904d4b",
   "metadata": {},
   "outputs": [],
   "source": []
  },
  {
   "cell_type": "markdown",
   "id": "78bbc68b-8e8d-4049-9319-69633bbd7947",
   "metadata": {},
   "source": [
    "## Estimates of confidence levels"
   ]
  },
  {
   "cell_type": "code",
   "execution_count": 77,
   "id": "6359970a",
   "metadata": {},
   "outputs": [],
   "source": [
    "def estimate_is_correct(interval, theta):\n",
    "    return interval[0] <= theta <= interval[1]"
   ]
  },
  {
   "cell_type": "markdown",
   "id": "97b33921-e79f-495c-9b38-29c1c018537c",
   "metadata": {},
   "source": [
    "### First we know the true sigma"
   ]
  },
  {
   "cell_type": "code",
   "execution_count": 83,
   "id": "40985692",
   "metadata": {},
   "outputs": [
    {
     "name": "stdout",
     "output_type": "stream",
     "text": [
      "Correct estimates: 8900, should be about: 9000.0\n"
     ]
    }
   ],
   "source": [
    "theta  = 2.454\n",
    "correct = 0\n",
    "alpha = .1\n",
    "num = 10**4\n",
    "L = []\n",
    "D = []\n",
    "for _ in range(num):\n",
    "    data = sampleX(2,5,secret)\n",
    "    D.append(data)\n",
    "    I = CI1(x=data,sigma=2,alpha=alpha)\n",
    "    L.append(I)\n",
    "    if estimate_is_correct(I,theta):\n",
    "        correct = correct + 1\n",
    "        \n",
    "print(f\"Correct estimates: {correct}, should be about: {(1-alpha)*num}\" )"
   ]
  },
  {
   "cell_type": "markdown",
   "id": "76ca68ae",
   "metadata": {},
   "source": [
    "Now the same think illustrated by a figure: \n",
    "each line represents one run of the experiment, plots the interval we obtain from the measurements (green dots).\n",
    "The red dotted line is the true value of mean.\n",
    "\n",
    "For the sake of cleaner picture we only take num=10."
   ]
  },
  {
   "cell_type": "code",
   "execution_count": 46,
   "id": "28814fd2",
   "metadata": {},
   "outputs": [
    {
     "data": {
      "application/javascript": [
       "/* Put everything inside the global mpl namespace */\n",
       "/* global mpl */\n",
       "window.mpl = {};\n",
       "\n",
       "mpl.get_websocket_type = function () {\n",
       "    if (typeof WebSocket !== 'undefined') {\n",
       "        return WebSocket;\n",
       "    } else if (typeof MozWebSocket !== 'undefined') {\n",
       "        return MozWebSocket;\n",
       "    } else {\n",
       "        alert(\n",
       "            'Your browser does not have WebSocket support. ' +\n",
       "                'Please try Chrome, Safari or Firefox ≥ 6. ' +\n",
       "                'Firefox 4 and 5 are also supported but you ' +\n",
       "                'have to enable WebSockets in about:config.'\n",
       "        );\n",
       "    }\n",
       "};\n",
       "\n",
       "mpl.figure = function (figure_id, websocket, ondownload, parent_element) {\n",
       "    this.id = figure_id;\n",
       "\n",
       "    this.ws = websocket;\n",
       "\n",
       "    this.supports_binary = this.ws.binaryType !== undefined;\n",
       "\n",
       "    if (!this.supports_binary) {\n",
       "        var warnings = document.getElementById('mpl-warnings');\n",
       "        if (warnings) {\n",
       "            warnings.style.display = 'block';\n",
       "            warnings.textContent =\n",
       "                'This browser does not support binary websocket messages. ' +\n",
       "                'Performance may be slow.';\n",
       "        }\n",
       "    }\n",
       "\n",
       "    this.imageObj = new Image();\n",
       "\n",
       "    this.context = undefined;\n",
       "    this.message = undefined;\n",
       "    this.canvas = undefined;\n",
       "    this.rubberband_canvas = undefined;\n",
       "    this.rubberband_context = undefined;\n",
       "    this.format_dropdown = undefined;\n",
       "\n",
       "    this.image_mode = 'full';\n",
       "\n",
       "    this.root = document.createElement('div');\n",
       "    this.root.setAttribute('style', 'display: inline-block');\n",
       "    this._root_extra_style(this.root);\n",
       "\n",
       "    parent_element.appendChild(this.root);\n",
       "\n",
       "    this._init_header(this);\n",
       "    this._init_canvas(this);\n",
       "    this._init_toolbar(this);\n",
       "\n",
       "    var fig = this;\n",
       "\n",
       "    this.waiting = false;\n",
       "\n",
       "    this.ws.onopen = function () {\n",
       "        fig.send_message('supports_binary', { value: fig.supports_binary });\n",
       "        fig.send_message('send_image_mode', {});\n",
       "        if (fig.ratio !== 1) {\n",
       "            fig.send_message('set_device_pixel_ratio', {\n",
       "                device_pixel_ratio: fig.ratio,\n",
       "            });\n",
       "        }\n",
       "        fig.send_message('refresh', {});\n",
       "    };\n",
       "\n",
       "    this.imageObj.onload = function () {\n",
       "        if (fig.image_mode === 'full') {\n",
       "            // Full images could contain transparency (where diff images\n",
       "            // almost always do), so we need to clear the canvas so that\n",
       "            // there is no ghosting.\n",
       "            fig.context.clearRect(0, 0, fig.canvas.width, fig.canvas.height);\n",
       "        }\n",
       "        fig.context.drawImage(fig.imageObj, 0, 0);\n",
       "    };\n",
       "\n",
       "    this.imageObj.onunload = function () {\n",
       "        fig.ws.close();\n",
       "    };\n",
       "\n",
       "    this.ws.onmessage = this._make_on_message_function(this);\n",
       "\n",
       "    this.ondownload = ondownload;\n",
       "};\n",
       "\n",
       "mpl.figure.prototype._init_header = function () {\n",
       "    var titlebar = document.createElement('div');\n",
       "    titlebar.classList =\n",
       "        'ui-dialog-titlebar ui-widget-header ui-corner-all ui-helper-clearfix';\n",
       "    var titletext = document.createElement('div');\n",
       "    titletext.classList = 'ui-dialog-title';\n",
       "    titletext.setAttribute(\n",
       "        'style',\n",
       "        'width: 100%; text-align: center; padding: 3px;'\n",
       "    );\n",
       "    titlebar.appendChild(titletext);\n",
       "    this.root.appendChild(titlebar);\n",
       "    this.header = titletext;\n",
       "};\n",
       "\n",
       "mpl.figure.prototype._canvas_extra_style = function (_canvas_div) {};\n",
       "\n",
       "mpl.figure.prototype._root_extra_style = function (_canvas_div) {};\n",
       "\n",
       "mpl.figure.prototype._init_canvas = function () {\n",
       "    var fig = this;\n",
       "\n",
       "    var canvas_div = (this.canvas_div = document.createElement('div'));\n",
       "    canvas_div.setAttribute(\n",
       "        'style',\n",
       "        'border: 1px solid #ddd;' +\n",
       "            'box-sizing: content-box;' +\n",
       "            'clear: both;' +\n",
       "            'min-height: 1px;' +\n",
       "            'min-width: 1px;' +\n",
       "            'outline: 0;' +\n",
       "            'overflow: hidden;' +\n",
       "            'position: relative;' +\n",
       "            'resize: both;'\n",
       "    );\n",
       "\n",
       "    function on_keyboard_event_closure(name) {\n",
       "        return function (event) {\n",
       "            return fig.key_event(event, name);\n",
       "        };\n",
       "    }\n",
       "\n",
       "    canvas_div.addEventListener(\n",
       "        'keydown',\n",
       "        on_keyboard_event_closure('key_press')\n",
       "    );\n",
       "    canvas_div.addEventListener(\n",
       "        'keyup',\n",
       "        on_keyboard_event_closure('key_release')\n",
       "    );\n",
       "\n",
       "    this._canvas_extra_style(canvas_div);\n",
       "    this.root.appendChild(canvas_div);\n",
       "\n",
       "    var canvas = (this.canvas = document.createElement('canvas'));\n",
       "    canvas.classList.add('mpl-canvas');\n",
       "    canvas.setAttribute('style', 'box-sizing: content-box;');\n",
       "\n",
       "    this.context = canvas.getContext('2d');\n",
       "\n",
       "    var backingStore =\n",
       "        this.context.backingStorePixelRatio ||\n",
       "        this.context.webkitBackingStorePixelRatio ||\n",
       "        this.context.mozBackingStorePixelRatio ||\n",
       "        this.context.msBackingStorePixelRatio ||\n",
       "        this.context.oBackingStorePixelRatio ||\n",
       "        this.context.backingStorePixelRatio ||\n",
       "        1;\n",
       "\n",
       "    this.ratio = (window.devicePixelRatio || 1) / backingStore;\n",
       "\n",
       "    var rubberband_canvas = (this.rubberband_canvas = document.createElement(\n",
       "        'canvas'\n",
       "    ));\n",
       "    rubberband_canvas.setAttribute(\n",
       "        'style',\n",
       "        'box-sizing: content-box; position: absolute; left: 0; top: 0; z-index: 1;'\n",
       "    );\n",
       "\n",
       "    // Apply a ponyfill if ResizeObserver is not implemented by browser.\n",
       "    if (this.ResizeObserver === undefined) {\n",
       "        if (window.ResizeObserver !== undefined) {\n",
       "            this.ResizeObserver = window.ResizeObserver;\n",
       "        } else {\n",
       "            var obs = _JSXTOOLS_RESIZE_OBSERVER({});\n",
       "            this.ResizeObserver = obs.ResizeObserver;\n",
       "        }\n",
       "    }\n",
       "\n",
       "    this.resizeObserverInstance = new this.ResizeObserver(function (entries) {\n",
       "        var nentries = entries.length;\n",
       "        for (var i = 0; i < nentries; i++) {\n",
       "            var entry = entries[i];\n",
       "            var width, height;\n",
       "            if (entry.contentBoxSize) {\n",
       "                if (entry.contentBoxSize instanceof Array) {\n",
       "                    // Chrome 84 implements new version of spec.\n",
       "                    width = entry.contentBoxSize[0].inlineSize;\n",
       "                    height = entry.contentBoxSize[0].blockSize;\n",
       "                } else {\n",
       "                    // Firefox implements old version of spec.\n",
       "                    width = entry.contentBoxSize.inlineSize;\n",
       "                    height = entry.contentBoxSize.blockSize;\n",
       "                }\n",
       "            } else {\n",
       "                // Chrome <84 implements even older version of spec.\n",
       "                width = entry.contentRect.width;\n",
       "                height = entry.contentRect.height;\n",
       "            }\n",
       "\n",
       "            // Keep the size of the canvas and rubber band canvas in sync with\n",
       "            // the canvas container.\n",
       "            if (entry.devicePixelContentBoxSize) {\n",
       "                // Chrome 84 implements new version of spec.\n",
       "                canvas.setAttribute(\n",
       "                    'width',\n",
       "                    entry.devicePixelContentBoxSize[0].inlineSize\n",
       "                );\n",
       "                canvas.setAttribute(\n",
       "                    'height',\n",
       "                    entry.devicePixelContentBoxSize[0].blockSize\n",
       "                );\n",
       "            } else {\n",
       "                canvas.setAttribute('width', width * fig.ratio);\n",
       "                canvas.setAttribute('height', height * fig.ratio);\n",
       "            }\n",
       "            canvas.setAttribute(\n",
       "                'style',\n",
       "                'width: ' + width + 'px; height: ' + height + 'px;'\n",
       "            );\n",
       "\n",
       "            rubberband_canvas.setAttribute('width', width);\n",
       "            rubberband_canvas.setAttribute('height', height);\n",
       "\n",
       "            // And update the size in Python. We ignore the initial 0/0 size\n",
       "            // that occurs as the element is placed into the DOM, which should\n",
       "            // otherwise not happen due to the minimum size styling.\n",
       "            if (fig.ws.readyState == 1 && width != 0 && height != 0) {\n",
       "                fig.request_resize(width, height);\n",
       "            }\n",
       "        }\n",
       "    });\n",
       "    this.resizeObserverInstance.observe(canvas_div);\n",
       "\n",
       "    function on_mouse_event_closure(name) {\n",
       "        return function (event) {\n",
       "            return fig.mouse_event(event, name);\n",
       "        };\n",
       "    }\n",
       "\n",
       "    rubberband_canvas.addEventListener(\n",
       "        'mousedown',\n",
       "        on_mouse_event_closure('button_press')\n",
       "    );\n",
       "    rubberband_canvas.addEventListener(\n",
       "        'mouseup',\n",
       "        on_mouse_event_closure('button_release')\n",
       "    );\n",
       "    rubberband_canvas.addEventListener(\n",
       "        'dblclick',\n",
       "        on_mouse_event_closure('dblclick')\n",
       "    );\n",
       "    // Throttle sequential mouse events to 1 every 20ms.\n",
       "    rubberband_canvas.addEventListener(\n",
       "        'mousemove',\n",
       "        on_mouse_event_closure('motion_notify')\n",
       "    );\n",
       "\n",
       "    rubberband_canvas.addEventListener(\n",
       "        'mouseenter',\n",
       "        on_mouse_event_closure('figure_enter')\n",
       "    );\n",
       "    rubberband_canvas.addEventListener(\n",
       "        'mouseleave',\n",
       "        on_mouse_event_closure('figure_leave')\n",
       "    );\n",
       "\n",
       "    canvas_div.addEventListener('wheel', function (event) {\n",
       "        if (event.deltaY < 0) {\n",
       "            event.step = 1;\n",
       "        } else {\n",
       "            event.step = -1;\n",
       "        }\n",
       "        on_mouse_event_closure('scroll')(event);\n",
       "    });\n",
       "\n",
       "    canvas_div.appendChild(canvas);\n",
       "    canvas_div.appendChild(rubberband_canvas);\n",
       "\n",
       "    this.rubberband_context = rubberband_canvas.getContext('2d');\n",
       "    this.rubberband_context.strokeStyle = '#000000';\n",
       "\n",
       "    this._resize_canvas = function (width, height, forward) {\n",
       "        if (forward) {\n",
       "            canvas_div.style.width = width + 'px';\n",
       "            canvas_div.style.height = height + 'px';\n",
       "        }\n",
       "    };\n",
       "\n",
       "    // Disable right mouse context menu.\n",
       "    this.rubberband_canvas.addEventListener('contextmenu', function (_e) {\n",
       "        event.preventDefault();\n",
       "        return false;\n",
       "    });\n",
       "\n",
       "    function set_focus() {\n",
       "        canvas.focus();\n",
       "        canvas_div.focus();\n",
       "    }\n",
       "\n",
       "    window.setTimeout(set_focus, 100);\n",
       "};\n",
       "\n",
       "mpl.figure.prototype._init_toolbar = function () {\n",
       "    var fig = this;\n",
       "\n",
       "    var toolbar = document.createElement('div');\n",
       "    toolbar.classList = 'mpl-toolbar';\n",
       "    this.root.appendChild(toolbar);\n",
       "\n",
       "    function on_click_closure(name) {\n",
       "        return function (_event) {\n",
       "            return fig.toolbar_button_onclick(name);\n",
       "        };\n",
       "    }\n",
       "\n",
       "    function on_mouseover_closure(tooltip) {\n",
       "        return function (event) {\n",
       "            if (!event.currentTarget.disabled) {\n",
       "                return fig.toolbar_button_onmouseover(tooltip);\n",
       "            }\n",
       "        };\n",
       "    }\n",
       "\n",
       "    fig.buttons = {};\n",
       "    var buttonGroup = document.createElement('div');\n",
       "    buttonGroup.classList = 'mpl-button-group';\n",
       "    for (var toolbar_ind in mpl.toolbar_items) {\n",
       "        var name = mpl.toolbar_items[toolbar_ind][0];\n",
       "        var tooltip = mpl.toolbar_items[toolbar_ind][1];\n",
       "        var image = mpl.toolbar_items[toolbar_ind][2];\n",
       "        var method_name = mpl.toolbar_items[toolbar_ind][3];\n",
       "\n",
       "        if (!name) {\n",
       "            /* Instead of a spacer, we start a new button group. */\n",
       "            if (buttonGroup.hasChildNodes()) {\n",
       "                toolbar.appendChild(buttonGroup);\n",
       "            }\n",
       "            buttonGroup = document.createElement('div');\n",
       "            buttonGroup.classList = 'mpl-button-group';\n",
       "            continue;\n",
       "        }\n",
       "\n",
       "        var button = (fig.buttons[name] = document.createElement('button'));\n",
       "        button.classList = 'mpl-widget';\n",
       "        button.setAttribute('role', 'button');\n",
       "        button.setAttribute('aria-disabled', 'false');\n",
       "        button.addEventListener('click', on_click_closure(method_name));\n",
       "        button.addEventListener('mouseover', on_mouseover_closure(tooltip));\n",
       "\n",
       "        var icon_img = document.createElement('img');\n",
       "        icon_img.src = '_images/' + image + '.png';\n",
       "        icon_img.srcset = '_images/' + image + '_large.png 2x';\n",
       "        icon_img.alt = tooltip;\n",
       "        button.appendChild(icon_img);\n",
       "\n",
       "        buttonGroup.appendChild(button);\n",
       "    }\n",
       "\n",
       "    if (buttonGroup.hasChildNodes()) {\n",
       "        toolbar.appendChild(buttonGroup);\n",
       "    }\n",
       "\n",
       "    var fmt_picker = document.createElement('select');\n",
       "    fmt_picker.classList = 'mpl-widget';\n",
       "    toolbar.appendChild(fmt_picker);\n",
       "    this.format_dropdown = fmt_picker;\n",
       "\n",
       "    for (var ind in mpl.extensions) {\n",
       "        var fmt = mpl.extensions[ind];\n",
       "        var option = document.createElement('option');\n",
       "        option.selected = fmt === mpl.default_extension;\n",
       "        option.innerHTML = fmt;\n",
       "        fmt_picker.appendChild(option);\n",
       "    }\n",
       "\n",
       "    var status_bar = document.createElement('span');\n",
       "    status_bar.classList = 'mpl-message';\n",
       "    toolbar.appendChild(status_bar);\n",
       "    this.message = status_bar;\n",
       "};\n",
       "\n",
       "mpl.figure.prototype.request_resize = function (x_pixels, y_pixels) {\n",
       "    // Request matplotlib to resize the figure. Matplotlib will then trigger a resize in the client,\n",
       "    // which will in turn request a refresh of the image.\n",
       "    this.send_message('resize', { width: x_pixels, height: y_pixels });\n",
       "};\n",
       "\n",
       "mpl.figure.prototype.send_message = function (type, properties) {\n",
       "    properties['type'] = type;\n",
       "    properties['figure_id'] = this.id;\n",
       "    this.ws.send(JSON.stringify(properties));\n",
       "};\n",
       "\n",
       "mpl.figure.prototype.send_draw_message = function () {\n",
       "    if (!this.waiting) {\n",
       "        this.waiting = true;\n",
       "        this.ws.send(JSON.stringify({ type: 'draw', figure_id: this.id }));\n",
       "    }\n",
       "};\n",
       "\n",
       "mpl.figure.prototype.handle_save = function (fig, _msg) {\n",
       "    var format_dropdown = fig.format_dropdown;\n",
       "    var format = format_dropdown.options[format_dropdown.selectedIndex].value;\n",
       "    fig.ondownload(fig, format);\n",
       "};\n",
       "\n",
       "mpl.figure.prototype.handle_resize = function (fig, msg) {\n",
       "    var size = msg['size'];\n",
       "    if (size[0] !== fig.canvas.width || size[1] !== fig.canvas.height) {\n",
       "        fig._resize_canvas(size[0], size[1], msg['forward']);\n",
       "        fig.send_message('refresh', {});\n",
       "    }\n",
       "};\n",
       "\n",
       "mpl.figure.prototype.handle_rubberband = function (fig, msg) {\n",
       "    var x0 = msg['x0'] / fig.ratio;\n",
       "    var y0 = (fig.canvas.height - msg['y0']) / fig.ratio;\n",
       "    var x1 = msg['x1'] / fig.ratio;\n",
       "    var y1 = (fig.canvas.height - msg['y1']) / fig.ratio;\n",
       "    x0 = Math.floor(x0) + 0.5;\n",
       "    y0 = Math.floor(y0) + 0.5;\n",
       "    x1 = Math.floor(x1) + 0.5;\n",
       "    y1 = Math.floor(y1) + 0.5;\n",
       "    var min_x = Math.min(x0, x1);\n",
       "    var min_y = Math.min(y0, y1);\n",
       "    var width = Math.abs(x1 - x0);\n",
       "    var height = Math.abs(y1 - y0);\n",
       "\n",
       "    fig.rubberband_context.clearRect(\n",
       "        0,\n",
       "        0,\n",
       "        fig.canvas.width / fig.ratio,\n",
       "        fig.canvas.height / fig.ratio\n",
       "    );\n",
       "\n",
       "    fig.rubberband_context.strokeRect(min_x, min_y, width, height);\n",
       "};\n",
       "\n",
       "mpl.figure.prototype.handle_figure_label = function (fig, msg) {\n",
       "    // Updates the figure title.\n",
       "    fig.header.textContent = msg['label'];\n",
       "};\n",
       "\n",
       "mpl.figure.prototype.handle_cursor = function (fig, msg) {\n",
       "    fig.rubberband_canvas.style.cursor = msg['cursor'];\n",
       "};\n",
       "\n",
       "mpl.figure.prototype.handle_message = function (fig, msg) {\n",
       "    fig.message.textContent = msg['message'];\n",
       "};\n",
       "\n",
       "mpl.figure.prototype.handle_draw = function (fig, _msg) {\n",
       "    // Request the server to send over a new figure.\n",
       "    fig.send_draw_message();\n",
       "};\n",
       "\n",
       "mpl.figure.prototype.handle_image_mode = function (fig, msg) {\n",
       "    fig.image_mode = msg['mode'];\n",
       "};\n",
       "\n",
       "mpl.figure.prototype.handle_history_buttons = function (fig, msg) {\n",
       "    for (var key in msg) {\n",
       "        if (!(key in fig.buttons)) {\n",
       "            continue;\n",
       "        }\n",
       "        fig.buttons[key].disabled = !msg[key];\n",
       "        fig.buttons[key].setAttribute('aria-disabled', !msg[key]);\n",
       "    }\n",
       "};\n",
       "\n",
       "mpl.figure.prototype.handle_navigate_mode = function (fig, msg) {\n",
       "    if (msg['mode'] === 'PAN') {\n",
       "        fig.buttons['Pan'].classList.add('active');\n",
       "        fig.buttons['Zoom'].classList.remove('active');\n",
       "    } else if (msg['mode'] === 'ZOOM') {\n",
       "        fig.buttons['Pan'].classList.remove('active');\n",
       "        fig.buttons['Zoom'].classList.add('active');\n",
       "    } else {\n",
       "        fig.buttons['Pan'].classList.remove('active');\n",
       "        fig.buttons['Zoom'].classList.remove('active');\n",
       "    }\n",
       "};\n",
       "\n",
       "mpl.figure.prototype.updated_canvas_event = function () {\n",
       "    // Called whenever the canvas gets updated.\n",
       "    this.send_message('ack', {});\n",
       "};\n",
       "\n",
       "// A function to construct a web socket function for onmessage handling.\n",
       "// Called in the figure constructor.\n",
       "mpl.figure.prototype._make_on_message_function = function (fig) {\n",
       "    return function socket_on_message(evt) {\n",
       "        if (evt.data instanceof Blob) {\n",
       "            var img = evt.data;\n",
       "            if (img.type !== 'image/png') {\n",
       "                /* FIXME: We get \"Resource interpreted as Image but\n",
       "                 * transferred with MIME type text/plain:\" errors on\n",
       "                 * Chrome.  But how to set the MIME type?  It doesn't seem\n",
       "                 * to be part of the websocket stream */\n",
       "                img.type = 'image/png';\n",
       "            }\n",
       "\n",
       "            /* Free the memory for the previous frames */\n",
       "            if (fig.imageObj.src) {\n",
       "                (window.URL || window.webkitURL).revokeObjectURL(\n",
       "                    fig.imageObj.src\n",
       "                );\n",
       "            }\n",
       "\n",
       "            fig.imageObj.src = (window.URL || window.webkitURL).createObjectURL(\n",
       "                img\n",
       "            );\n",
       "            fig.updated_canvas_event();\n",
       "            fig.waiting = false;\n",
       "            return;\n",
       "        } else if (\n",
       "            typeof evt.data === 'string' &&\n",
       "            evt.data.slice(0, 21) === 'data:image/png;base64'\n",
       "        ) {\n",
       "            fig.imageObj.src = evt.data;\n",
       "            fig.updated_canvas_event();\n",
       "            fig.waiting = false;\n",
       "            return;\n",
       "        }\n",
       "\n",
       "        var msg = JSON.parse(evt.data);\n",
       "        var msg_type = msg['type'];\n",
       "\n",
       "        // Call the  \"handle_{type}\" callback, which takes\n",
       "        // the figure and JSON message as its only arguments.\n",
       "        try {\n",
       "            var callback = fig['handle_' + msg_type];\n",
       "        } catch (e) {\n",
       "            console.log(\n",
       "                \"No handler for the '\" + msg_type + \"' message type: \",\n",
       "                msg\n",
       "            );\n",
       "            return;\n",
       "        }\n",
       "\n",
       "        if (callback) {\n",
       "            try {\n",
       "                // console.log(\"Handling '\" + msg_type + \"' message: \", msg);\n",
       "                callback(fig, msg);\n",
       "            } catch (e) {\n",
       "                console.log(\n",
       "                    \"Exception inside the 'handler_\" + msg_type + \"' callback:\",\n",
       "                    e,\n",
       "                    e.stack,\n",
       "                    msg\n",
       "                );\n",
       "            }\n",
       "        }\n",
       "    };\n",
       "};\n",
       "\n",
       "// from https://stackoverflow.com/questions/1114465/getting-mouse-location-in-canvas\n",
       "mpl.findpos = function (e) {\n",
       "    //this section is from http://www.quirksmode.org/js/events_properties.html\n",
       "    var targ;\n",
       "    if (!e) {\n",
       "        e = window.event;\n",
       "    }\n",
       "    if (e.target) {\n",
       "        targ = e.target;\n",
       "    } else if (e.srcElement) {\n",
       "        targ = e.srcElement;\n",
       "    }\n",
       "    if (targ.nodeType === 3) {\n",
       "        // defeat Safari bug\n",
       "        targ = targ.parentNode;\n",
       "    }\n",
       "\n",
       "    // pageX,Y are the mouse positions relative to the document\n",
       "    var boundingRect = targ.getBoundingClientRect();\n",
       "    var x = e.pageX - (boundingRect.left + document.body.scrollLeft);\n",
       "    var y = e.pageY - (boundingRect.top + document.body.scrollTop);\n",
       "\n",
       "    return { x: x, y: y };\n",
       "};\n",
       "\n",
       "/*\n",
       " * return a copy of an object with only non-object keys\n",
       " * we need this to avoid circular references\n",
       " * https://stackoverflow.com/a/24161582/3208463\n",
       " */\n",
       "function simpleKeys(original) {\n",
       "    return Object.keys(original).reduce(function (obj, key) {\n",
       "        if (typeof original[key] !== 'object') {\n",
       "            obj[key] = original[key];\n",
       "        }\n",
       "        return obj;\n",
       "    }, {});\n",
       "}\n",
       "\n",
       "mpl.figure.prototype.mouse_event = function (event, name) {\n",
       "    var canvas_pos = mpl.findpos(event);\n",
       "\n",
       "    if (name === 'button_press') {\n",
       "        this.canvas.focus();\n",
       "        this.canvas_div.focus();\n",
       "    }\n",
       "\n",
       "    var x = canvas_pos.x * this.ratio;\n",
       "    var y = canvas_pos.y * this.ratio;\n",
       "\n",
       "    this.send_message(name, {\n",
       "        x: x,\n",
       "        y: y,\n",
       "        button: event.button,\n",
       "        step: event.step,\n",
       "        guiEvent: simpleKeys(event),\n",
       "    });\n",
       "\n",
       "    /* This prevents the web browser from automatically changing to\n",
       "     * the text insertion cursor when the button is pressed.  We want\n",
       "     * to control all of the cursor setting manually through the\n",
       "     * 'cursor' event from matplotlib */\n",
       "    event.preventDefault();\n",
       "    return false;\n",
       "};\n",
       "\n",
       "mpl.figure.prototype._key_event_extra = function (_event, _name) {\n",
       "    // Handle any extra behaviour associated with a key event\n",
       "};\n",
       "\n",
       "mpl.figure.prototype.key_event = function (event, name) {\n",
       "    // Prevent repeat events\n",
       "    if (name === 'key_press') {\n",
       "        if (event.key === this._key) {\n",
       "            return;\n",
       "        } else {\n",
       "            this._key = event.key;\n",
       "        }\n",
       "    }\n",
       "    if (name === 'key_release') {\n",
       "        this._key = null;\n",
       "    }\n",
       "\n",
       "    var value = '';\n",
       "    if (event.ctrlKey && event.key !== 'Control') {\n",
       "        value += 'ctrl+';\n",
       "    }\n",
       "    else if (event.altKey && event.key !== 'Alt') {\n",
       "        value += 'alt+';\n",
       "    }\n",
       "    else if (event.shiftKey && event.key !== 'Shift') {\n",
       "        value += 'shift+';\n",
       "    }\n",
       "\n",
       "    value += 'k' + event.key;\n",
       "\n",
       "    this._key_event_extra(event, name);\n",
       "\n",
       "    this.send_message(name, { key: value, guiEvent: simpleKeys(event) });\n",
       "    return false;\n",
       "};\n",
       "\n",
       "mpl.figure.prototype.toolbar_button_onclick = function (name) {\n",
       "    if (name === 'download') {\n",
       "        this.handle_save(this, null);\n",
       "    } else {\n",
       "        this.send_message('toolbar_button', { name: name });\n",
       "    }\n",
       "};\n",
       "\n",
       "mpl.figure.prototype.toolbar_button_onmouseover = function (tooltip) {\n",
       "    this.message.textContent = tooltip;\n",
       "};\n",
       "\n",
       "///////////////// REMAINING CONTENT GENERATED BY embed_js.py /////////////////\n",
       "// prettier-ignore\n",
       "var _JSXTOOLS_RESIZE_OBSERVER=function(A){var t,i=new WeakMap,n=new WeakMap,a=new WeakMap,r=new WeakMap,o=new Set;function s(e){if(!(this instanceof s))throw new TypeError(\"Constructor requires 'new' operator\");i.set(this,e)}function h(){throw new TypeError(\"Function is not a constructor\")}function c(e,t,i,n){e=0 in arguments?Number(arguments[0]):0,t=1 in arguments?Number(arguments[1]):0,i=2 in arguments?Number(arguments[2]):0,n=3 in arguments?Number(arguments[3]):0,this.right=(this.x=this.left=e)+(this.width=i),this.bottom=(this.y=this.top=t)+(this.height=n),Object.freeze(this)}function d(){t=requestAnimationFrame(d);var s=new WeakMap,p=new Set;o.forEach((function(t){r.get(t).forEach((function(i){var r=t instanceof window.SVGElement,o=a.get(t),d=r?0:parseFloat(o.paddingTop),f=r?0:parseFloat(o.paddingRight),l=r?0:parseFloat(o.paddingBottom),u=r?0:parseFloat(o.paddingLeft),g=r?0:parseFloat(o.borderTopWidth),m=r?0:parseFloat(o.borderRightWidth),w=r?0:parseFloat(o.borderBottomWidth),b=u+f,F=d+l,v=(r?0:parseFloat(o.borderLeftWidth))+m,W=g+w,y=r?0:t.offsetHeight-W-t.clientHeight,E=r?0:t.offsetWidth-v-t.clientWidth,R=b+v,z=F+W,M=r?t.width:parseFloat(o.width)-R-E,O=r?t.height:parseFloat(o.height)-z-y;if(n.has(t)){var k=n.get(t);if(k[0]===M&&k[1]===O)return}n.set(t,[M,O]);var S=Object.create(h.prototype);S.target=t,S.contentRect=new c(u,d,M,O),s.has(i)||(s.set(i,[]),p.add(i)),s.get(i).push(S)}))})),p.forEach((function(e){i.get(e).call(e,s.get(e),e)}))}return s.prototype.observe=function(i){if(i instanceof window.Element){r.has(i)||(r.set(i,new Set),o.add(i),a.set(i,window.getComputedStyle(i)));var n=r.get(i);n.has(this)||n.add(this),cancelAnimationFrame(t),t=requestAnimationFrame(d)}},s.prototype.unobserve=function(i){if(i instanceof window.Element&&r.has(i)){var n=r.get(i);n.has(this)&&(n.delete(this),n.size||(r.delete(i),o.delete(i))),n.size||r.delete(i),o.size||cancelAnimationFrame(t)}},A.DOMRectReadOnly=c,A.ResizeObserver=s,A.ResizeObserverEntry=h,A}; // eslint-disable-line\n",
       "mpl.toolbar_items = [[\"Home\", \"Reset original view\", \"fa fa-home icon-home\", \"home\"], [\"Back\", \"Back to previous view\", \"fa fa-arrow-left icon-arrow-left\", \"back\"], [\"Forward\", \"Forward to next view\", \"fa fa-arrow-right icon-arrow-right\", \"forward\"], [\"\", \"\", \"\", \"\"], [\"Pan\", \"Left button pans, Right button zooms\\nx/y fixes axis, CTRL fixes aspect\", \"fa fa-arrows icon-move\", \"pan\"], [\"Zoom\", \"Zoom to rectangle\\nx/y fixes axis\", \"fa fa-square-o icon-check-empty\", \"zoom\"], [\"\", \"\", \"\", \"\"], [\"Download\", \"Download plot\", \"fa fa-floppy-o icon-save\", \"download\"]];\n",
       "\n",
       "mpl.extensions = [\"eps\", \"jpeg\", \"pgf\", \"pdf\", \"png\", \"ps\", \"raw\", \"svg\", \"tif\"];\n",
       "\n",
       "mpl.default_extension = \"png\";/* global mpl */\n",
       "\n",
       "var comm_websocket_adapter = function (comm) {\n",
       "    // Create a \"websocket\"-like object which calls the given IPython comm\n",
       "    // object with the appropriate methods. Currently this is a non binary\n",
       "    // socket, so there is still some room for performance tuning.\n",
       "    var ws = {};\n",
       "\n",
       "    ws.binaryType = comm.kernel.ws.binaryType;\n",
       "    ws.readyState = comm.kernel.ws.readyState;\n",
       "    function updateReadyState(_event) {\n",
       "        if (comm.kernel.ws) {\n",
       "            ws.readyState = comm.kernel.ws.readyState;\n",
       "        } else {\n",
       "            ws.readyState = 3; // Closed state.\n",
       "        }\n",
       "    }\n",
       "    comm.kernel.ws.addEventListener('open', updateReadyState);\n",
       "    comm.kernel.ws.addEventListener('close', updateReadyState);\n",
       "    comm.kernel.ws.addEventListener('error', updateReadyState);\n",
       "\n",
       "    ws.close = function () {\n",
       "        comm.close();\n",
       "    };\n",
       "    ws.send = function (m) {\n",
       "        //console.log('sending', m);\n",
       "        comm.send(m);\n",
       "    };\n",
       "    // Register the callback with on_msg.\n",
       "    comm.on_msg(function (msg) {\n",
       "        //console.log('receiving', msg['content']['data'], msg);\n",
       "        var data = msg['content']['data'];\n",
       "        if (data['blob'] !== undefined) {\n",
       "            data = {\n",
       "                data: new Blob(msg['buffers'], { type: data['blob'] }),\n",
       "            };\n",
       "        }\n",
       "        // Pass the mpl event to the overridden (by mpl) onmessage function.\n",
       "        ws.onmessage(data);\n",
       "    });\n",
       "    return ws;\n",
       "};\n",
       "\n",
       "mpl.mpl_figure_comm = function (comm, msg) {\n",
       "    // This is the function which gets called when the mpl process\n",
       "    // starts-up an IPython Comm through the \"matplotlib\" channel.\n",
       "\n",
       "    var id = msg.content.data.id;\n",
       "    // Get hold of the div created by the display call when the Comm\n",
       "    // socket was opened in Python.\n",
       "    var element = document.getElementById(id);\n",
       "    var ws_proxy = comm_websocket_adapter(comm);\n",
       "\n",
       "    function ondownload(figure, _format) {\n",
       "        window.open(figure.canvas.toDataURL());\n",
       "    }\n",
       "\n",
       "    var fig = new mpl.figure(id, ws_proxy, ondownload, element);\n",
       "\n",
       "    // Call onopen now - mpl needs it, as it is assuming we've passed it a real\n",
       "    // web socket which is closed, not our websocket->open comm proxy.\n",
       "    ws_proxy.onopen();\n",
       "\n",
       "    fig.parent_element = element;\n",
       "    fig.cell_info = mpl.find_output_cell(\"<div id='\" + id + \"'></div>\");\n",
       "    if (!fig.cell_info) {\n",
       "        console.error('Failed to find cell for figure', id, fig);\n",
       "        return;\n",
       "    }\n",
       "    fig.cell_info[0].output_area.element.on(\n",
       "        'cleared',\n",
       "        { fig: fig },\n",
       "        fig._remove_fig_handler\n",
       "    );\n",
       "};\n",
       "\n",
       "mpl.figure.prototype.handle_close = function (fig, msg) {\n",
       "    var width = fig.canvas.width / fig.ratio;\n",
       "    fig.cell_info[0].output_area.element.off(\n",
       "        'cleared',\n",
       "        fig._remove_fig_handler\n",
       "    );\n",
       "    fig.resizeObserverInstance.unobserve(fig.canvas_div);\n",
       "\n",
       "    // Update the output cell to use the data from the current canvas.\n",
       "    fig.push_to_output();\n",
       "    var dataURL = fig.canvas.toDataURL();\n",
       "    // Re-enable the keyboard manager in IPython - without this line, in FF,\n",
       "    // the notebook keyboard shortcuts fail.\n",
       "    IPython.keyboard_manager.enable();\n",
       "    fig.parent_element.innerHTML =\n",
       "        '<img src=\"' + dataURL + '\" width=\"' + width + '\">';\n",
       "    fig.close_ws(fig, msg);\n",
       "};\n",
       "\n",
       "mpl.figure.prototype.close_ws = function (fig, msg) {\n",
       "    fig.send_message('closing', msg);\n",
       "    // fig.ws.close()\n",
       "};\n",
       "\n",
       "mpl.figure.prototype.push_to_output = function (_remove_interactive) {\n",
       "    // Turn the data on the canvas into data in the output cell.\n",
       "    var width = this.canvas.width / this.ratio;\n",
       "    var dataURL = this.canvas.toDataURL();\n",
       "    this.cell_info[1]['text/html'] =\n",
       "        '<img src=\"' + dataURL + '\" width=\"' + width + '\">';\n",
       "};\n",
       "\n",
       "mpl.figure.prototype.updated_canvas_event = function () {\n",
       "    // Tell IPython that the notebook contents must change.\n",
       "    IPython.notebook.set_dirty(true);\n",
       "    this.send_message('ack', {});\n",
       "    var fig = this;\n",
       "    // Wait a second, then push the new image to the DOM so\n",
       "    // that it is saved nicely (might be nice to debounce this).\n",
       "    setTimeout(function () {\n",
       "        fig.push_to_output();\n",
       "    }, 1000);\n",
       "};\n",
       "\n",
       "mpl.figure.prototype._init_toolbar = function () {\n",
       "    var fig = this;\n",
       "\n",
       "    var toolbar = document.createElement('div');\n",
       "    toolbar.classList = 'btn-toolbar';\n",
       "    this.root.appendChild(toolbar);\n",
       "\n",
       "    function on_click_closure(name) {\n",
       "        return function (_event) {\n",
       "            return fig.toolbar_button_onclick(name);\n",
       "        };\n",
       "    }\n",
       "\n",
       "    function on_mouseover_closure(tooltip) {\n",
       "        return function (event) {\n",
       "            if (!event.currentTarget.disabled) {\n",
       "                return fig.toolbar_button_onmouseover(tooltip);\n",
       "            }\n",
       "        };\n",
       "    }\n",
       "\n",
       "    fig.buttons = {};\n",
       "    var buttonGroup = document.createElement('div');\n",
       "    buttonGroup.classList = 'btn-group';\n",
       "    var button;\n",
       "    for (var toolbar_ind in mpl.toolbar_items) {\n",
       "        var name = mpl.toolbar_items[toolbar_ind][0];\n",
       "        var tooltip = mpl.toolbar_items[toolbar_ind][1];\n",
       "        var image = mpl.toolbar_items[toolbar_ind][2];\n",
       "        var method_name = mpl.toolbar_items[toolbar_ind][3];\n",
       "\n",
       "        if (!name) {\n",
       "            /* Instead of a spacer, we start a new button group. */\n",
       "            if (buttonGroup.hasChildNodes()) {\n",
       "                toolbar.appendChild(buttonGroup);\n",
       "            }\n",
       "            buttonGroup = document.createElement('div');\n",
       "            buttonGroup.classList = 'btn-group';\n",
       "            continue;\n",
       "        }\n",
       "\n",
       "        button = fig.buttons[name] = document.createElement('button');\n",
       "        button.classList = 'btn btn-default';\n",
       "        button.href = '#';\n",
       "        button.title = name;\n",
       "        button.innerHTML = '<i class=\"fa ' + image + ' fa-lg\"></i>';\n",
       "        button.addEventListener('click', on_click_closure(method_name));\n",
       "        button.addEventListener('mouseover', on_mouseover_closure(tooltip));\n",
       "        buttonGroup.appendChild(button);\n",
       "    }\n",
       "\n",
       "    if (buttonGroup.hasChildNodes()) {\n",
       "        toolbar.appendChild(buttonGroup);\n",
       "    }\n",
       "\n",
       "    // Add the status bar.\n",
       "    var status_bar = document.createElement('span');\n",
       "    status_bar.classList = 'mpl-message pull-right';\n",
       "    toolbar.appendChild(status_bar);\n",
       "    this.message = status_bar;\n",
       "\n",
       "    // Add the close button to the window.\n",
       "    var buttongrp = document.createElement('div');\n",
       "    buttongrp.classList = 'btn-group inline pull-right';\n",
       "    button = document.createElement('button');\n",
       "    button.classList = 'btn btn-mini btn-primary';\n",
       "    button.href = '#';\n",
       "    button.title = 'Stop Interaction';\n",
       "    button.innerHTML = '<i class=\"fa fa-power-off icon-remove icon-large\"></i>';\n",
       "    button.addEventListener('click', function (_evt) {\n",
       "        fig.handle_close(fig, {});\n",
       "    });\n",
       "    button.addEventListener(\n",
       "        'mouseover',\n",
       "        on_mouseover_closure('Stop Interaction')\n",
       "    );\n",
       "    buttongrp.appendChild(button);\n",
       "    var titlebar = this.root.querySelector('.ui-dialog-titlebar');\n",
       "    titlebar.insertBefore(buttongrp, titlebar.firstChild);\n",
       "};\n",
       "\n",
       "mpl.figure.prototype._remove_fig_handler = function (event) {\n",
       "    var fig = event.data.fig;\n",
       "    if (event.target !== this) {\n",
       "        // Ignore bubbled events from children.\n",
       "        return;\n",
       "    }\n",
       "    fig.close_ws(fig, {});\n",
       "};\n",
       "\n",
       "mpl.figure.prototype._root_extra_style = function (el) {\n",
       "    el.style.boxSizing = 'content-box'; // override notebook setting of border-box.\n",
       "};\n",
       "\n",
       "mpl.figure.prototype._canvas_extra_style = function (el) {\n",
       "    // this is important to make the div 'focusable\n",
       "    el.setAttribute('tabindex', 0);\n",
       "    // reach out to IPython and tell the keyboard manager to turn it's self\n",
       "    // off when our div gets focus\n",
       "\n",
       "    // location in version 3\n",
       "    if (IPython.notebook.keyboard_manager) {\n",
       "        IPython.notebook.keyboard_manager.register_events(el);\n",
       "    } else {\n",
       "        // location in version 2\n",
       "        IPython.keyboard_manager.register_events(el);\n",
       "    }\n",
       "};\n",
       "\n",
       "mpl.figure.prototype._key_event_extra = function (event, _name) {\n",
       "    // Check for shift+enter\n",
       "    if (event.shiftKey && event.which === 13) {\n",
       "        this.canvas_div.blur();\n",
       "        // select the cell after this one\n",
       "        var index = IPython.notebook.find_cell_index(this.cell_info[0]);\n",
       "        IPython.notebook.select(index + 1);\n",
       "    }\n",
       "};\n",
       "\n",
       "mpl.figure.prototype.handle_save = function (fig, _msg) {\n",
       "    fig.ondownload(fig, null);\n",
       "};\n",
       "\n",
       "mpl.find_output_cell = function (html_output) {\n",
       "    // Return the cell and output element which can be found *uniquely* in the notebook.\n",
       "    // Note - this is a bit hacky, but it is done because the \"notebook_saving.Notebook\"\n",
       "    // IPython event is triggered only after the cells have been serialised, which for\n",
       "    // our purposes (turning an active figure into a static one), is too late.\n",
       "    var cells = IPython.notebook.get_cells();\n",
       "    var ncells = cells.length;\n",
       "    for (var i = 0; i < ncells; i++) {\n",
       "        var cell = cells[i];\n",
       "        if (cell.cell_type === 'code') {\n",
       "            for (var j = 0; j < cell.output_area.outputs.length; j++) {\n",
       "                var data = cell.output_area.outputs[j];\n",
       "                if (data.data) {\n",
       "                    // IPython >= 3 moved mimebundle to data attribute of output\n",
       "                    data = data.data;\n",
       "                }\n",
       "                if (data['text/html'] === html_output) {\n",
       "                    return [cell, data, j];\n",
       "                }\n",
       "            }\n",
       "        }\n",
       "    }\n",
       "};\n",
       "\n",
       "// Register the function which deals with the matplotlib target/channel.\n",
       "// The kernel may be null if the page has been refreshed.\n",
       "if (IPython.notebook.kernel !== null) {\n",
       "    IPython.notebook.kernel.comm_manager.register_target(\n",
       "        'matplotlib',\n",
       "        mpl.mpl_figure_comm\n",
       "    );\n",
       "}\n"
      ],
      "text/plain": [
       "<IPython.core.display.Javascript object>"
      ]
     },
     "metadata": {},
     "output_type": "display_data"
    },
    {
     "data": {
      "text/html": [
       "<img src=\"data:image/png;base64,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\" width=\"640\">"
      ],
      "text/plain": [
       "<IPython.core.display.HTML object>"
      ]
     },
     "metadata": {},
     "output_type": "display_data"
    }
   ],
   "source": [
    "%matplotlib notebook\n",
    "fig = plt.figure()\n",
    "num = 20\n",
    "for i in range(num):\n",
    "    plt.plot([L[i][0],L[i][1]], [i/num,i/num], 'b-', linewidth=1.5)\n",
    "    plt.plot(D[i], [i/num for _ in D[i]], 'go', markersize=2)\n",
    "\n",
    "plt.plot([secret, secret], [-0.1, 1.1], 'r:', linewidth=1)\n",
    "\n",
    "plt.show()"
   ]
  },
  {
   "cell_type": "markdown",
   "id": "74274392-4aa5-4349-8d1e-6ef4e3f422da",
   "metadata": {},
   "source": [
    "### Now we don't know it, but use the same method\n",
    "\n",
    "We ask for confidence level 90 % but get only 82 %.\n",
    "(Here we have $n=5$ samples, with more samples the difference would be smaller.)"
   ]
  },
  {
   "cell_type": "code",
   "execution_count": 100,
   "id": "9aee92fa-502a-4075-963b-e491e7eb1712",
   "metadata": {},
   "outputs": [
    {
     "name": "stdout",
     "output_type": "stream",
     "text": [
      "Correct estimates: 8237, should be about: 9000.0\n"
     ]
    }
   ],
   "source": [
    "theta  = 2.454\n",
    "correct = 0\n",
    "alpha = .1\n",
    "num = 10**4\n",
    "\n",
    "for _ in range(num):\n",
    "    data = sampleX(2,5,theta)\n",
    "    I = CI1(x=data,sigma=data.std(ddof=1),alpha=alpha)\n",
    "    if estimate_is_correct(I,theta):\n",
    "        correct = correct + 1\n",
    "        \n",
    "print(f\"Correct estimates: {correct}, should be about: {(1-alpha)*num}\" )"
   ]
  },
  {
   "cell_type": "code",
   "execution_count": null,
   "id": "e7543672-e267-4531-a3c5-f8294eace8a4",
   "metadata": {},
   "outputs": [],
   "source": []
  },
  {
   "cell_type": "code",
   "execution_count": null,
   "id": "4f43a061-bb95-484d-aef9-8e3cbd167387",
   "metadata": {},
   "outputs": [],
   "source": []
  },
  {
   "cell_type": "markdown",
   "id": "9389165f-3405-4b19-9d4a-7073820c4d60",
   "metadata": {},
   "source": [
    "### Finally, we use the Student t function\n"
   ]
  },
  {
   "cell_type": "code",
   "execution_count": 102,
   "id": "ab9c4977-ffd8-4a90-b29c-d4f3ea1228e4",
   "metadata": {},
   "outputs": [
    {
     "name": "stdout",
     "output_type": "stream",
     "text": [
      "Correct estimates: 9028, should be about: 9000.0\n"
     ]
    }
   ],
   "source": [
    "theta  = 2.454\n",
    "correct = 0\n",
    "alpha = .1\n",
    "num = 10**4\n",
    "\n",
    "for _ in range(num):\n",
    "    data = sampleX(2,5,theta)\n",
    "    I = CI3(x=data,alpha=alpha)\n",
    "    if estimate_is_correct(I,theta):\n",
    "        correct = correct + 1\n",
    "        \n",
    "print(f\"Correct estimates: {correct}, should be about: {(1-alpha)*num}\" )"
   ]
  },
  {
   "cell_type": "code",
   "execution_count": null,
   "id": "de38b736-68a6-4b78-9440-41c8a011081b",
   "metadata": {},
   "outputs": [],
   "source": []
  }
 ],
 "metadata": {
  "kernelspec": {
   "display_name": "Python 3 (ipykernel)",
   "language": "python",
   "name": "python3"
  },
  "language_info": {
   "codemirror_mode": {
    "name": "ipython",
    "version": 3
   },
   "file_extension": ".py",
   "mimetype": "text/x-python",
   "name": "python",
   "nbconvert_exporter": "python",
   "pygments_lexer": "ipython3",
   "version": "3.11.7"
  },
  "widgets": {
   "application/vnd.jupyter.widget-state+json": {
    "state": {},
    "version_major": 2,
    "version_minor": 0
   }
  }
 },
 "nbformat": 4,
 "nbformat_minor": 5
}
