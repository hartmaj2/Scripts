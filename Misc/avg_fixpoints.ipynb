{
 "cells": [
  {
   "cell_type": "code",
   "execution_count": 5,
   "metadata": {},
   "outputs": [],
   "source": [
    "import itertools\n",
    "permutations = list(itertools.permutations(range(6)))\n",
    "# for perm in permutations:\n",
    "#     print(perm)"
   ]
  },
  {
   "cell_type": "markdown",
   "metadata": {},
   "source": [
    "Calculate how many fix points I encounter in total."
   ]
  },
  {
   "cell_type": "code",
   "execution_count": 6,
   "metadata": {},
   "outputs": [
    {
     "name": "stdout",
     "output_type": "stream",
     "text": [
      "sum_hits=720\n",
      "avg=1.0\n"
     ]
    }
   ],
   "source": [
    "sum_hits = 0\n",
    "for perm in permutations:\n",
    "    hits = 0\n",
    "    for i in range(len(perm)):\n",
    "        if i == perm[i]:\n",
    "            hits += 1\n",
    "    #     print(i,end=\" \")\n",
    "    #     print(perm[i],end=\", \")\n",
    "    # print(hits, end= \" \")\n",
    "    sum_hits += hits\n",
    "    # print(\"end\")\n",
    "print(f\"{sum_hits=}\")\n",
    "avg = sum_hits / len(permutations)\n",
    "print(f\"{avg=}\")"
   ]
  }
 ],
 "metadata": {
  "kernelspec": {
   "display_name": "env",
   "language": "python",
   "name": "python3"
  },
  "language_info": {
   "codemirror_mode": {
    "name": "ipython",
    "version": 3
   },
   "file_extension": ".py",
   "mimetype": "text/x-python",
   "name": "python",
   "nbconvert_exporter": "python",
   "pygments_lexer": "ipython3",
   "version": "3.12.10"
  }
 },
 "nbformat": 4,
 "nbformat_minor": 2
}
