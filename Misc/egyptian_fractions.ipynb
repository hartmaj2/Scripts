{
 "cells": [
  {
   "cell_type": "markdown",
   "id": "04984948",
   "metadata": {},
   "source": [
    "# Egyptian fractions\n",
    "\n",
    "This program was inspired by Exercise $1.3.5$ in Invitation to Discrete Mathematics by Matousek and Nesetril\n",
    "\n",
    "On input we get a proper fraction $a = \\frac{m}{n}$ where $m < n$.\n",
    "\n",
    "Our task is to express $a$ in terms of fractions $b_1,\\ldots,b_k$ as $a = \\sum_{i=1}^{k}b_i$ where each $b_i = \\frac{1}{k_i}$\n",
    "\n",
    "First we implement a class for fractions."
   ]
  },
  {
   "cell_type": "code",
   "execution_count": 4,
   "id": "23519281",
   "metadata": {},
   "outputs": [],
   "source": [
    "from __future__ import annotations\n",
    "\n",
    "class Frac:\n",
    "\n",
    "    def __init__(self, m : int, n : int):\n",
    "        if n < 0 or m < 0:\n",
    "            raise AssertionError(\"Invalid arguments to constructor\")\n",
    "        self.num = m\n",
    "        self.den = n\n",
    "        self._reduce()\n",
    "    \n",
    "    def __add__(self, other : Frac):\n",
    "        lcm, num1, num2 = Frac._get_compatible(self,other)\n",
    "        return Frac(num1 + num2,lcm)\n",
    "\n",
    "    def __sub__(self, other : Frac):\n",
    "        lcm, num1, num2 = Frac._get_compatible(self,other)\n",
    "        return Frac(num1 - num2,lcm)\n",
    "\n",
    "    @staticmethod\n",
    "    def _get_compatible(a : Frac, b : Frac):\n",
    "        lcm = Frac.lcm(a.den,b.den)\n",
    "        return lcm, a.num * (lcm // a.den), b.num * (lcm // b.den)\n",
    "\n",
    "    def _reduce(self):\n",
    "        d = Frac.gcd(self.num,self.den)\n",
    "        self.num //= d\n",
    "        self.den //= d\n",
    "\n",
    "    @staticmethod\n",
    "    def lcm(a,b):\n",
    "        return a * b // Frac.gcd(a,b)\n",
    "\n",
    "    @staticmethod\n",
    "    def gcd(a,b):\n",
    "        if a < b:\n",
    "            a,b = b,a\n",
    "        while b != 0:\n",
    "            a %= b\n",
    "            a,b = b,a\n",
    "        return a\n",
    "\n",
    "    def __str__(self):\n",
    "        return f\"{self.num}/{self.den}\"\n",
    "    \n",
    "    def __repr__(self):\n",
    "        return self.__str__()"
   ]
  },
  {
   "cell_type": "markdown",
   "id": "c54f534b",
   "metadata": {},
   "source": [
    "Now a question is, how to implement LCM or the Least Common Multiplier. We say that $m=lcm(a,b)$ if $a \\ | \\ m$ and $b \\ | \\ m$ and $m$ is smallest such.\n",
    "\n",
    "The answer is beautiful. Important is to realize, that we can use the knowledge of GCD (Greatest Common Divisor). Now suppose we have numbers $a,b$ and that $a = \\prod_{i=1}^{\\infty}p_i^{k_i}$ and $b = \\prod_{i=1}^{\\infty}p_i^{l_i}$ where $p_i$ is the $i$-th lowest prime. \n",
    "\n",
    "Then $a \\cdot b = \\prod_{i=1}^{\\infty}p_i^{k_i+l_i}$ and $gcd(a,b)= \\prod_{i=1}^{\\infty}p_i^{\\min(k_i,l_i)}$ and $lcm(a,b)= \\prod_{i=1}^{\\infty}p_i^{\\max(k_i,l_i)}$\n",
    "\n",
    "Now we just use the property that for natural numbers $k,l$ we have $\\min(k,l) + \\max(k,l) = k + l$ to arrive at equation $gcd(a,b) \\cdot lcm(a,b) = a \\cdot b$"
   ]
  },
  {
   "cell_type": "markdown",
   "id": "c4ee6da1",
   "metadata": {},
   "source": [
    "With the `Frac` class, we are ready to implement the egyptial algorithm. It is as follows:\n",
    "1. Let $m,n$ such that $m$ < n$\n",
    "2. Let set $F = \\emptyset$\n",
    "3. $a = \\frac{m}{n}$\n",
    "4. While $a \\neq 0$ do:\n",
    "5.   Let $d = \\frac{1}{\\lceil \\frac{n}{m} \\rceil}$\n",
    "6.   $F \\leftarrow d$\n",
    "7.   $a = a - d$ and we set $m,n$ respectively\n",
    "8. End While"
   ]
  },
  {
   "cell_type": "markdown",
   "id": "a3dfd6e6",
   "metadata": {},
   "source": [
    "The following code was generated with copilot based on the pseudoalgorithm above and then edited by me."
   ]
  },
  {
   "cell_type": "code",
   "execution_count": 5,
   "id": "1f935023",
   "metadata": {},
   "outputs": [],
   "source": [
    "import math\n",
    "\n",
    "def egyptian_fraction(frac: Frac):\n",
    "    F = []\n",
    "    a = Frac(frac.num, frac.den)\n",
    "    while a.num != 0:\n",
    "        d = Frac(1, math.ceil(a.den / a.num))\n",
    "        F.append(d)\n",
    "        a = a - d\n",
    "    return F"
   ]
  },
  {
   "cell_type": "markdown",
   "id": "f988c0c3",
   "metadata": {},
   "source": [
    "Now test the algorithm"
   ]
  },
  {
   "cell_type": "code",
   "execution_count": 6,
   "id": "8adf6068",
   "metadata": {},
   "outputs": [
    {
     "data": {
      "text/plain": [
       "[1/3, 1/20, 1/780]"
      ]
     },
     "execution_count": 6,
     "metadata": {},
     "output_type": "execute_result"
    }
   ],
   "source": [
    "egyptian_fraction(Frac(5,13))"
   ]
  },
  {
   "cell_type": "code",
   "execution_count": 7,
   "id": "4e6832e3",
   "metadata": {},
   "outputs": [
    {
     "data": {
      "text/plain": [
       "[1/2, 1/10]"
      ]
     },
     "execution_count": 7,
     "metadata": {},
     "output_type": "execute_result"
    }
   ],
   "source": [
    "egyptian_fraction(Frac(3,5))"
   ]
  }
 ],
 "metadata": {
  "kernelspec": {
   "display_name": "env",
   "language": "python",
   "name": "python3"
  },
  "language_info": {
   "codemirror_mode": {
    "name": "ipython",
    "version": 3
   },
   "file_extension": ".py",
   "mimetype": "text/x-python",
   "name": "python",
   "nbconvert_exporter": "python",
   "pygments_lexer": "ipython3",
   "version": "3.12.10"
  }
 },
 "nbformat": 4,
 "nbformat_minor": 5
}
