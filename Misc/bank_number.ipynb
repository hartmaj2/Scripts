{
 "cells": [
  {
   "cell_type": "markdown",
   "id": "107dd67a",
   "metadata": {},
   "source": [
    "# Kontrolní suma pro čísla bankovních účtů\n",
    "\n",
    "Zjistil jsem, že stejně jako rodná čísla, tak i bankovní čísla účtu mají mechanismus kontrolních součtů pro detekci chyb."
   ]
  },
  {
   "cell_type": "code",
   "execution_count": null,
   "id": "d9ab113f",
   "metadata": {},
   "outputs": [
    {
     "name": "stdout",
     "output_type": "stream",
     "text": [
      "209\n",
      "0\n"
     ]
    }
   ],
   "source": [
    "# the weights seem to be a permutation of numbers 1,...,10\n",
    "weights = [6,3,7,9,10,5,8,4,2,1]\n",
    "account_number = \"2112657268\"\n",
    "\n",
    "checksum = sum([ weights[-i] * int(account_number[-i]) for i in range(1,len(account_number)+1)])\n",
    "print(checksum)\n",
    "\n",
    "print(checksum % 11)"
   ]
  }
 ],
 "metadata": {
  "kernelspec": {
   "display_name": "env",
   "language": "python",
   "name": "python3"
  },
  "language_info": {
   "codemirror_mode": {
    "name": "ipython",
    "version": 3
   },
   "file_extension": ".py",
   "mimetype": "text/x-python",
   "name": "python",
   "nbconvert_exporter": "python",
   "pygments_lexer": "ipython3",
   "version": "3.12.10"
  }
 },
 "nbformat": 4,
 "nbformat_minor": 5
}
