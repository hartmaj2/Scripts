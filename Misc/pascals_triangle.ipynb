{
 "cells": [
  {
   "cell_type": "markdown",
   "metadata": {},
   "source": [
    "A simple program for generating Pascal's Triangle"
   ]
  },
  {
   "cell_type": "code",
   "execution_count": 1,
   "metadata": {},
   "outputs": [
    {
     "name": "stdout",
     "output_type": "stream",
     "text": [
      "\t\t\t\t\t\t\t\t\t\t\t\t1\t\t\n",
      "\t\t\t\t\t\t\t\t\t\t\t1\t\t1\t\t\n",
      "\t\t\t\t\t\t\t\t\t\t1\t\t2\t\t1\t\t\n",
      "\t\t\t\t\t\t\t\t\t1\t\t3\t\t3\t\t1\t\t\n",
      "\t\t\t\t\t\t\t\t1\t\t4\t\t6\t\t4\t\t1\t\t\n",
      "\t\t\t\t\t\t\t1\t\t5\t\t10\t\t10\t\t5\t\t1\t\t\n",
      "\t\t\t\t\t\t1\t\t6\t\t15\t\t20\t\t15\t\t6\t\t1\t\t\n",
      "\t\t\t\t\t1\t\t7\t\t21\t\t35\t\t35\t\t21\t\t7\t\t1\t\t\n",
      "\t\t\t\t1\t\t8\t\t28\t\t56\t\t70\t\t56\t\t28\t\t8\t\t1\t\t\n",
      "\t\t\t1\t\t9\t\t36\t\t84\t\t126\t\t126\t\t84\t\t36\t\t9\t\t1\t\t\n",
      "\t\t1\t\t10\t\t45\t\t120\t\t210\t\t252\t\t210\t\t120\t\t45\t\t10\t\t1\t\t\n",
      "\t1\t\t11\t\t55\t\t165\t\t330\t\t462\t\t462\t\t330\t\t165\t\t55\t\t11\t\t1\t\t\n",
      "1\t\t12\t\t66\t\t220\t\t495\t\t792\t\t924\t\t792\t\t495\t\t220\t\t66\t\t12\t\t1\t\t\n"
     ]
    }
   ],
   "source": [
    "import math\n",
    "\n",
    "height = 13\n",
    "spaces = height * 2 - 1\n",
    "left_tabs = spaces // 2\n",
    "for i in range(height):\n",
    "    print(left_tabs * \"\\t\",end=\"\")\n",
    "    for j in range(i+1):\n",
    "        print(math.comb(i,j),end=\"\\t\\t\")\n",
    "    left_tabs -= 1\n",
    "    print()"
   ]
  }
 ],
 "metadata": {
  "kernelspec": {
   "display_name": "env",
   "language": "python",
   "name": "python3"
  },
  "language_info": {
   "codemirror_mode": {
    "name": "ipython",
    "version": 3
   },
   "file_extension": ".py",
   "mimetype": "text/x-python",
   "name": "python",
   "nbconvert_exporter": "python",
   "pygments_lexer": "ipython3",
   "version": "3.12.10"
  }
 },
 "nbformat": 4,
 "nbformat_minor": 2
}
